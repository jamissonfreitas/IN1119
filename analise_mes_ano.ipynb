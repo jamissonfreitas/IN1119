{
  "nbformat": 4,
  "nbformat_minor": 0,
  "metadata": {
    "colab": {
      "name": "Copy of analise_mes_ano.ipynb",
      "version": "0.3.2",
      "provenance": [],
      "collapsed_sections": [],
      "toc_visible": true,
      "include_colab_link": true
    },
    "kernelspec": {
      "name": "python3",
      "display_name": "Python 3"
    }
  },
  "cells": [
    {
      "cell_type": "markdown",
      "metadata": {
        "id": "view-in-github",
        "colab_type": "text"
      },
      "source": [
        "<a href=\"https://colab.research.google.com/github/jamissonfreitas/IN1119/blob/master/analise_mes_ano.ipynb\" target=\"_parent\"><img src=\"https://colab.research.google.com/assets/colab-badge.svg\" alt=\"Open In Colab\"/></a>"
      ]
    },
    {
      "cell_type": "code",
      "metadata": {
        "id": "YMKKxl-Zjyjw",
        "colab_type": "code",
        "colab": {}
      },
      "source": [
        "import pandas as pd\n",
        "import matplotlib.pyplot as plt\n",
        "from io import StringIO"
      ],
      "execution_count": 0,
      "outputs": []
    },
    {
      "cell_type": "markdown",
      "metadata": {
        "id": "EjcmFsjhJzt2",
        "colab_type": "text"
      },
      "source": [
        "# População Brasileira"
      ]
    },
    {
      "cell_type": "code",
      "metadata": {
        "id": "0pZFWn3ioz7G",
        "colab_type": "code",
        "colab": {
          "base_uri": "https://localhost:8080/",
          "height": 638
        },
        "outputId": "e5690483-d2c3-4032-86ba-08f8c663b86c"
      },
      "source": [
        "populacao_data = StringIO(\"\"\"Ano;População\n",
        "  2000;173448346\n",
        "  2001;175885229\n",
        "  2002;178276128\n",
        "  2003;180619108\n",
        "  2004;182911487\n",
        "  2005;185150806\n",
        "  2006;187335137\n",
        "  2007;189462755\n",
        "  2008;191532439\n",
        "  2009;193543969\n",
        "  2010;195497797\n",
        "  2011;197397018\n",
        "  2012;199242462\n",
        "  2013;201032714\n",
        "  2014;202768562\n",
        "  2015;204450649\n",
        "  2016;206081432\n",
        "  2017;207660929\n",
        "\"\"\"\n",
        ")\n",
        "df_populacao = pd.read_csv(populacao_data, index_col=0, sep=';')\n",
        "df_populacao.index = df_populacao.index.astype(str)\n",
        "df_populacao"
      ],
      "execution_count": 129,
      "outputs": [
        {
          "output_type": "execute_result",
          "data": {
            "text/html": [
              "<div>\n",
              "<style scoped>\n",
              "    .dataframe tbody tr th:only-of-type {\n",
              "        vertical-align: middle;\n",
              "    }\n",
              "\n",
              "    .dataframe tbody tr th {\n",
              "        vertical-align: top;\n",
              "    }\n",
              "\n",
              "    .dataframe thead th {\n",
              "        text-align: right;\n",
              "    }\n",
              "</style>\n",
              "<table border=\"1\" class=\"dataframe\">\n",
              "  <thead>\n",
              "    <tr style=\"text-align: right;\">\n",
              "      <th></th>\n",
              "      <th>População</th>\n",
              "    </tr>\n",
              "    <tr>\n",
              "      <th>Ano</th>\n",
              "      <th></th>\n",
              "    </tr>\n",
              "  </thead>\n",
              "  <tbody>\n",
              "    <tr>\n",
              "      <th>2000</th>\n",
              "      <td>173448346</td>\n",
              "    </tr>\n",
              "    <tr>\n",
              "      <th>2001</th>\n",
              "      <td>175885229</td>\n",
              "    </tr>\n",
              "    <tr>\n",
              "      <th>2002</th>\n",
              "      <td>178276128</td>\n",
              "    </tr>\n",
              "    <tr>\n",
              "      <th>2003</th>\n",
              "      <td>180619108</td>\n",
              "    </tr>\n",
              "    <tr>\n",
              "      <th>2004</th>\n",
              "      <td>182911487</td>\n",
              "    </tr>\n",
              "    <tr>\n",
              "      <th>2005</th>\n",
              "      <td>185150806</td>\n",
              "    </tr>\n",
              "    <tr>\n",
              "      <th>2006</th>\n",
              "      <td>187335137</td>\n",
              "    </tr>\n",
              "    <tr>\n",
              "      <th>2007</th>\n",
              "      <td>189462755</td>\n",
              "    </tr>\n",
              "    <tr>\n",
              "      <th>2008</th>\n",
              "      <td>191532439</td>\n",
              "    </tr>\n",
              "    <tr>\n",
              "      <th>2009</th>\n",
              "      <td>193543969</td>\n",
              "    </tr>\n",
              "    <tr>\n",
              "      <th>2010</th>\n",
              "      <td>195497797</td>\n",
              "    </tr>\n",
              "    <tr>\n",
              "      <th>2011</th>\n",
              "      <td>197397018</td>\n",
              "    </tr>\n",
              "    <tr>\n",
              "      <th>2012</th>\n",
              "      <td>199242462</td>\n",
              "    </tr>\n",
              "    <tr>\n",
              "      <th>2013</th>\n",
              "      <td>201032714</td>\n",
              "    </tr>\n",
              "    <tr>\n",
              "      <th>2014</th>\n",
              "      <td>202768562</td>\n",
              "    </tr>\n",
              "    <tr>\n",
              "      <th>2015</th>\n",
              "      <td>204450649</td>\n",
              "    </tr>\n",
              "    <tr>\n",
              "      <th>2016</th>\n",
              "      <td>206081432</td>\n",
              "    </tr>\n",
              "    <tr>\n",
              "      <th>2017</th>\n",
              "      <td>207660929</td>\n",
              "    </tr>\n",
              "  </tbody>\n",
              "</table>\n",
              "</div>"
            ],
            "text/plain": [
              "      População\n",
              "Ano            \n",
              "2000  173448346\n",
              "2001  175885229\n",
              "2002  178276128\n",
              "2003  180619108\n",
              "2004  182911487\n",
              "2005  185150806\n",
              "2006  187335137\n",
              "2007  189462755\n",
              "2008  191532439\n",
              "2009  193543969\n",
              "2010  195497797\n",
              "2011  197397018\n",
              "2012  199242462\n",
              "2013  201032714\n",
              "2014  202768562\n",
              "2015  204450649\n",
              "2016  206081432\n",
              "2017  207660929"
            ]
          },
          "metadata": {
            "tags": []
          },
          "execution_count": 129
        }
      ]
    },
    {
      "cell_type": "markdown",
      "metadata": {
        "id": "Yw-AKtwofzVk",
        "colab_type": "text"
      },
      "source": [
        "## População mensal"
      ]
    },
    {
      "cell_type": "code",
      "metadata": {
        "id": "JCcEJOJJkYL_",
        "colab_type": "code",
        "outputId": "920e06a2-539d-43f7-ed30-6ef142337690",
        "colab": {
          "base_uri": "https://localhost:8080/",
          "height": 390
        }
      },
      "source": [
        "df_populacao_mensal = pd.read_csv('projecoes_das_populacoes_mensais_2000_2017_xls.csv', index_col=0, sep=';')\n",
        "df_populacao_mensal= df_populacao_mensal.dropna()\n",
        "df_populacao_mensal['Brasil'] = df_populacao_mensal['Brasil'].apply(lambda x: int(str(x).replace('.','')))\n",
        "df_populacao_mensal['MES'] = df_populacao_mensal.index.map(lambda x: x.split('-')[1])\n",
        "df_populacao_mensal['ANO'] = df_populacao_mensal.index.map(lambda x: '20'+x.split('-')[2])\n",
        "df_populacao_mensal.sample(10)"
      ],
      "execution_count": 66,
      "outputs": [
        {
          "output_type": "execute_result",
          "data": {
            "text/html": [
              "<div>\n",
              "<style scoped>\n",
              "    .dataframe tbody tr th:only-of-type {\n",
              "        vertical-align: middle;\n",
              "    }\n",
              "\n",
              "    .dataframe tbody tr th {\n",
              "        vertical-align: top;\n",
              "    }\n",
              "\n",
              "    .dataframe thead th {\n",
              "        text-align: right;\n",
              "    }\n",
              "</style>\n",
              "<table border=\"1\" class=\"dataframe\">\n",
              "  <thead>\n",
              "    <tr style=\"text-align: right;\">\n",
              "      <th></th>\n",
              "      <th>Brasil</th>\n",
              "      <th>MES</th>\n",
              "      <th>ANO</th>\n",
              "    </tr>\n",
              "    <tr>\n",
              "      <th>DATA</th>\n",
              "      <th></th>\n",
              "      <th></th>\n",
              "      <th></th>\n",
              "    </tr>\n",
              "  </thead>\n",
              "  <tbody>\n",
              "    <tr>\n",
              "      <th>1-fev-12</th>\n",
              "      <td>198633809</td>\n",
              "      <td>fev</td>\n",
              "      <td>2012</td>\n",
              "    </tr>\n",
              "    <tr>\n",
              "      <th>1-mai-08</th>\n",
              "      <td>191343268</td>\n",
              "      <td>mai</td>\n",
              "      <td>2008</td>\n",
              "    </tr>\n",
              "    <tr>\n",
              "      <th>1-mai-16</th>\n",
              "      <td>205968024</td>\n",
              "      <td>mai</td>\n",
              "      <td>2016</td>\n",
              "    </tr>\n",
              "    <tr>\n",
              "      <th>1-out-12</th>\n",
              "      <td>199849625</td>\n",
              "      <td>out</td>\n",
              "      <td>2012</td>\n",
              "    </tr>\n",
              "    <tr>\n",
              "      <th>1-jan-14</th>\n",
              "      <td>202063812</td>\n",
              "      <td>jan</td>\n",
              "      <td>2014</td>\n",
              "    </tr>\n",
              "    <tr>\n",
              "      <th>1-fev-09</th>\n",
              "      <td>192862621</td>\n",
              "      <td>fev</td>\n",
              "      <td>2009</td>\n",
              "    </tr>\n",
              "    <tr>\n",
              "      <th>1-jan-13</th>\n",
              "      <td>200299299</td>\n",
              "      <td>jan</td>\n",
              "      <td>2013</td>\n",
              "    </tr>\n",
              "    <tr>\n",
              "      <th>1-set-01</th>\n",
              "      <td>176498025</td>\n",
              "      <td>set</td>\n",
              "      <td>2001</td>\n",
              "    </tr>\n",
              "    <tr>\n",
              "      <th>1-set-09</th>\n",
              "      <td>194023193</td>\n",
              "      <td>set</td>\n",
              "      <td>2009</td>\n",
              "    </tr>\n",
              "    <tr>\n",
              "      <th>1-jan-03</th>\n",
              "      <td>179659266</td>\n",
              "      <td>jan</td>\n",
              "      <td>2003</td>\n",
              "    </tr>\n",
              "  </tbody>\n",
              "</table>\n",
              "</div>"
            ],
            "text/plain": [
              "             Brasil  MES   ANO\n",
              "DATA                          \n",
              "1-fev-12  198633809  fev  2012\n",
              "1-mai-08  191343268  mai  2008\n",
              "1-mai-16  205968024  mai  2016\n",
              "1-out-12  199849625  out  2012\n",
              "1-jan-14  202063812  jan  2014\n",
              "1-fev-09  192862621  fev  2009\n",
              "1-jan-13  200299299  jan  2013\n",
              "1-set-01  176498025  set  2001\n",
              "1-set-09  194023193  set  2009\n",
              "1-jan-03  179659266  jan  2003"
            ]
          },
          "metadata": {
            "tags": []
          },
          "execution_count": 66
        }
      ]
    },
    {
      "cell_type": "code",
      "metadata": {
        "id": "MWuOGJOorxSp",
        "colab_type": "code",
        "outputId": "bffe8a48-eb73-46a5-e5b2-d85bd14f6fbe",
        "colab": {
          "base_uri": "https://localhost:8080/",
          "height": 221
        }
      },
      "source": [
        "m = list(df_populacao_mensal.MES.unique())\n",
        "meses = ['Janeiro',\n",
        "         'Fevereiro',\n",
        "         'Março',\n",
        "         'Abril',\n",
        "         'Maio',\n",
        "         'Junho',\n",
        "         'Julho',\n",
        "         'Agosto',\n",
        "         'Setembro',\n",
        "         'Outubro',\n",
        "         'Novembro',\n",
        "         'Dezembro']\n",
        "MES_DICT = dict(zip(m, meses, ))\n",
        "MES_DICT"
      ],
      "execution_count": 67,
      "outputs": [
        {
          "output_type": "execute_result",
          "data": {
            "text/plain": [
              "{'abr': 'Abril',\n",
              " 'ago': 'Agosto',\n",
              " 'dez': 'Dezembro',\n",
              " 'fev': 'Fevereiro',\n",
              " 'jan': 'Janeiro',\n",
              " 'jul': 'Julho',\n",
              " 'jun': 'Junho',\n",
              " 'mai': 'Maio',\n",
              " 'mar': 'Março',\n",
              " 'nov': 'Novembro',\n",
              " 'out': 'Outubro',\n",
              " 'set': 'Setembro'}"
            ]
          },
          "metadata": {
            "tags": []
          },
          "execution_count": 67
        }
      ]
    },
    {
      "cell_type": "code",
      "metadata": {
        "id": "E4AYpSyqTm27",
        "colab_type": "code",
        "colab": {
          "base_uri": "https://localhost:8080/",
          "height": 658
        },
        "outputId": "677b8a2a-4370-4b01-b10b-40cefdaf15fc"
      },
      "source": [
        "df_populacao_mensal['MES'] = df_populacao_mensal['MES'].apply(lambda x : MES_DICT[x])\n",
        "df_populacao_mensal = df_populacao_mensal.pivot(index='ANO', columns='MES', values='Brasil')\n",
        "df_populacao_mensal = df_populacao_mensal[meses]\n",
        "df_populacao_mensal"
      ],
      "execution_count": 68,
      "outputs": [
        {
          "output_type": "execute_result",
          "data": {
            "text/html": [
              "<div>\n",
              "<style scoped>\n",
              "    .dataframe tbody tr th:only-of-type {\n",
              "        vertical-align: middle;\n",
              "    }\n",
              "\n",
              "    .dataframe tbody tr th {\n",
              "        vertical-align: top;\n",
              "    }\n",
              "\n",
              "    .dataframe thead th {\n",
              "        text-align: right;\n",
              "    }\n",
              "</style>\n",
              "<table border=\"1\" class=\"dataframe\">\n",
              "  <thead>\n",
              "    <tr style=\"text-align: right;\">\n",
              "      <th>MES</th>\n",
              "      <th>Janeiro</th>\n",
              "      <th>Fevereiro</th>\n",
              "      <th>Março</th>\n",
              "      <th>Abril</th>\n",
              "      <th>Maio</th>\n",
              "      <th>Junho</th>\n",
              "      <th>Julho</th>\n",
              "      <th>Agosto</th>\n",
              "      <th>Setembro</th>\n",
              "      <th>Outubro</th>\n",
              "      <th>Novembro</th>\n",
              "      <th>Dezembro</th>\n",
              "    </tr>\n",
              "    <tr>\n",
              "      <th>ANO</th>\n",
              "      <th></th>\n",
              "      <th></th>\n",
              "      <th></th>\n",
              "      <th></th>\n",
              "      <th></th>\n",
              "      <th></th>\n",
              "      <th></th>\n",
              "      <th></th>\n",
              "      <th></th>\n",
              "      <th></th>\n",
              "      <th></th>\n",
              "      <th></th>\n",
              "    </tr>\n",
              "  </thead>\n",
              "  <tbody>\n",
              "    <tr>\n",
              "      <th>2000</th>\n",
              "      <td>172411827</td>\n",
              "      <td>172619684</td>\n",
              "      <td>172827170</td>\n",
              "      <td>173034285</td>\n",
              "      <td>173241022</td>\n",
              "      <td>173447387</td>\n",
              "      <td>173653378</td>\n",
              "      <td>173858999</td>\n",
              "      <td>174064243</td>\n",
              "      <td>174269111</td>\n",
              "      <td>174473609</td>\n",
              "      <td>174677733</td>\n",
              "    </tr>\n",
              "    <tr>\n",
              "      <th>2001</th>\n",
              "      <td>174881480</td>\n",
              "      <td>175084860</td>\n",
              "      <td>175287860</td>\n",
              "      <td>175490490</td>\n",
              "      <td>175692745</td>\n",
              "      <td>175894625</td>\n",
              "      <td>176096134</td>\n",
              "      <td>176297266</td>\n",
              "      <td>176498025</td>\n",
              "      <td>176698411</td>\n",
              "      <td>176898423</td>\n",
              "      <td>177098057</td>\n",
              "    </tr>\n",
              "    <tr>\n",
              "      <th>2002</th>\n",
              "      <td>177297319</td>\n",
              "      <td>177496208</td>\n",
              "      <td>177694719</td>\n",
              "      <td>177892863</td>\n",
              "      <td>178090626</td>\n",
              "      <td>178288012</td>\n",
              "      <td>178485036</td>\n",
              "      <td>178681675</td>\n",
              "      <td>178877943</td>\n",
              "      <td>179073834</td>\n",
              "      <td>179269355</td>\n",
              "      <td>179464497</td>\n",
              "    </tr>\n",
              "    <tr>\n",
              "      <th>2003</th>\n",
              "      <td>179659266</td>\n",
              "      <td>179853661</td>\n",
              "      <td>180047681</td>\n",
              "      <td>180241323</td>\n",
              "      <td>180434595</td>\n",
              "      <td>180627489</td>\n",
              "      <td>180820008</td>\n",
              "      <td>181012154</td>\n",
              "      <td>181203921</td>\n",
              "      <td>181395317</td>\n",
              "      <td>181586339</td>\n",
              "      <td>181776982</td>\n",
              "    </tr>\n",
              "    <tr>\n",
              "      <th>2004</th>\n",
              "      <td>181967253</td>\n",
              "      <td>182157148</td>\n",
              "      <td>182346667</td>\n",
              "      <td>182535812</td>\n",
              "      <td>182724578</td>\n",
              "      <td>182912972</td>\n",
              "      <td>183100988</td>\n",
              "      <td>183288631</td>\n",
              "      <td>183475896</td>\n",
              "      <td>183662791</td>\n",
              "      <td>183849303</td>\n",
              "      <td>184035445</td>\n",
              "    </tr>\n",
              "    <tr>\n",
              "      <th>2005</th>\n",
              "      <td>184221208</td>\n",
              "      <td>184406597</td>\n",
              "      <td>184591613</td>\n",
              "      <td>184776247</td>\n",
              "      <td>184960508</td>\n",
              "      <td>185144393</td>\n",
              "      <td>185327905</td>\n",
              "      <td>185511035</td>\n",
              "      <td>185693795</td>\n",
              "      <td>185876175</td>\n",
              "      <td>186058179</td>\n",
              "      <td>186239811</td>\n",
              "    </tr>\n",
              "    <tr>\n",
              "      <th>2006</th>\n",
              "      <td>186421065</td>\n",
              "      <td>186601940</td>\n",
              "      <td>186782440</td>\n",
              "      <td>186962565</td>\n",
              "      <td>187142314</td>\n",
              "      <td>187321684</td>\n",
              "      <td>187500678</td>\n",
              "      <td>187679300</td>\n",
              "      <td>187857542</td>\n",
              "      <td>188035407</td>\n",
              "      <td>188212898</td>\n",
              "      <td>188390010</td>\n",
              "    </tr>\n",
              "    <tr>\n",
              "      <th>2007</th>\n",
              "      <td>188566744</td>\n",
              "      <td>188743105</td>\n",
              "      <td>188919085</td>\n",
              "      <td>189094694</td>\n",
              "      <td>189269923</td>\n",
              "      <td>189444772</td>\n",
              "      <td>189619251</td>\n",
              "      <td>189793348</td>\n",
              "      <td>189967069</td>\n",
              "      <td>190140416</td>\n",
              "      <td>190313382</td>\n",
              "      <td>190485971</td>\n",
              "    </tr>\n",
              "    <tr>\n",
              "      <th>2008</th>\n",
              "      <td>190658187</td>\n",
              "      <td>190830023</td>\n",
              "      <td>191001481</td>\n",
              "      <td>191172563</td>\n",
              "      <td>191343268</td>\n",
              "      <td>191513595</td>\n",
              "      <td>191683548</td>\n",
              "      <td>191853118</td>\n",
              "      <td>192022312</td>\n",
              "      <td>192191129</td>\n",
              "      <td>192359568</td>\n",
              "      <td>192527633</td>\n",
              "    </tr>\n",
              "    <tr>\n",
              "      <th>2009</th>\n",
              "      <td>192695315</td>\n",
              "      <td>192862621</td>\n",
              "      <td>193029552</td>\n",
              "      <td>193196104</td>\n",
              "      <td>193362276</td>\n",
              "      <td>193528069</td>\n",
              "      <td>193693489</td>\n",
              "      <td>193858532</td>\n",
              "      <td>194023193</td>\n",
              "      <td>194187479</td>\n",
              "      <td>194351382</td>\n",
              "      <td>194514911</td>\n",
              "    </tr>\n",
              "    <tr>\n",
              "      <th>2010</th>\n",
              "      <td>194678058</td>\n",
              "      <td>194840831</td>\n",
              "      <td>195003226</td>\n",
              "      <td>195165241</td>\n",
              "      <td>195326878</td>\n",
              "      <td>195488139</td>\n",
              "      <td>195649018</td>\n",
              "      <td>195809522</td>\n",
              "      <td>195969644</td>\n",
              "      <td>196129390</td>\n",
              "      <td>196288758</td>\n",
              "      <td>196447746</td>\n",
              "    </tr>\n",
              "    <tr>\n",
              "      <th>2011</th>\n",
              "      <td>196606353</td>\n",
              "      <td>196764584</td>\n",
              "      <td>196922435</td>\n",
              "      <td>197079913</td>\n",
              "      <td>197237006</td>\n",
              "      <td>197393721</td>\n",
              "      <td>197550059</td>\n",
              "      <td>197706014</td>\n",
              "      <td>197861595</td>\n",
              "      <td>198016797</td>\n",
              "      <td>198171617</td>\n",
              "      <td>198326060</td>\n",
              "    </tr>\n",
              "    <tr>\n",
              "      <th>2012</th>\n",
              "      <td>198480121</td>\n",
              "      <td>198633809</td>\n",
              "      <td>198787113</td>\n",
              "      <td>198940038</td>\n",
              "      <td>199092587</td>\n",
              "      <td>199244754</td>\n",
              "      <td>199396537</td>\n",
              "      <td>199547945</td>\n",
              "      <td>199698975</td>\n",
              "      <td>199849625</td>\n",
              "      <td>199999897</td>\n",
              "      <td>200149788</td>\n",
              "    </tr>\n",
              "    <tr>\n",
              "      <th>2013</th>\n",
              "      <td>200299299</td>\n",
              "      <td>200448428</td>\n",
              "      <td>200597182</td>\n",
              "      <td>200745555</td>\n",
              "      <td>200893547</td>\n",
              "      <td>201041158</td>\n",
              "      <td>201188391</td>\n",
              "      <td>201335246</td>\n",
              "      <td>201481713</td>\n",
              "      <td>201627809</td>\n",
              "      <td>201773522</td>\n",
              "      <td>201918857</td>\n",
              "    </tr>\n",
              "    <tr>\n",
              "      <th>2014</th>\n",
              "      <td>202063812</td>\n",
              "      <td>202208383</td>\n",
              "      <td>202352574</td>\n",
              "      <td>202496388</td>\n",
              "      <td>202639820</td>\n",
              "      <td>202782873</td>\n",
              "      <td>202925541</td>\n",
              "      <td>203067838</td>\n",
              "      <td>203209748</td>\n",
              "      <td>203351275</td>\n",
              "      <td>203492428</td>\n",
              "      <td>203633198</td>\n",
              "    </tr>\n",
              "    <tr>\n",
              "      <th>2015</th>\n",
              "      <td>203773584</td>\n",
              "      <td>203913593</td>\n",
              "      <td>204053221</td>\n",
              "      <td>204192468</td>\n",
              "      <td>204331335</td>\n",
              "      <td>204469821</td>\n",
              "      <td>204607927</td>\n",
              "      <td>204745652</td>\n",
              "      <td>204882995</td>\n",
              "      <td>205019954</td>\n",
              "      <td>205156540</td>\n",
              "      <td>205292736</td>\n",
              "    </tr>\n",
              "    <tr>\n",
              "      <th>2016</th>\n",
              "      <td>205428558</td>\n",
              "      <td>205563996</td>\n",
              "      <td>205699051</td>\n",
              "      <td>205833730</td>\n",
              "      <td>205968024</td>\n",
              "      <td>206101937</td>\n",
              "      <td>206235469</td>\n",
              "      <td>206368620</td>\n",
              "      <td>206501390</td>\n",
              "      <td>206633775</td>\n",
              "      <td>206765781</td>\n",
              "      <td>206897407</td>\n",
              "    </tr>\n",
              "    <tr>\n",
              "      <th>2017</th>\n",
              "      <td>207028653</td>\n",
              "      <td>207159516</td>\n",
              "      <td>207289996</td>\n",
              "      <td>207420096</td>\n",
              "      <td>207549810</td>\n",
              "      <td>207679148</td>\n",
              "      <td>207808099</td>\n",
              "      <td>207936672</td>\n",
              "      <td>208064864</td>\n",
              "      <td>208192668</td>\n",
              "      <td>208320097</td>\n",
              "      <td>208447142</td>\n",
              "    </tr>\n",
              "  </tbody>\n",
              "</table>\n",
              "</div>"
            ],
            "text/plain": [
              "MES     Janeiro  Fevereiro      Março  ...    Outubro   Novembro   Dezembro\n",
              "ANO                                    ...                                 \n",
              "2000  172411827  172619684  172827170  ...  174269111  174473609  174677733\n",
              "2001  174881480  175084860  175287860  ...  176698411  176898423  177098057\n",
              "2002  177297319  177496208  177694719  ...  179073834  179269355  179464497\n",
              "2003  179659266  179853661  180047681  ...  181395317  181586339  181776982\n",
              "2004  181967253  182157148  182346667  ...  183662791  183849303  184035445\n",
              "2005  184221208  184406597  184591613  ...  185876175  186058179  186239811\n",
              "2006  186421065  186601940  186782440  ...  188035407  188212898  188390010\n",
              "2007  188566744  188743105  188919085  ...  190140416  190313382  190485971\n",
              "2008  190658187  190830023  191001481  ...  192191129  192359568  192527633\n",
              "2009  192695315  192862621  193029552  ...  194187479  194351382  194514911\n",
              "2010  194678058  194840831  195003226  ...  196129390  196288758  196447746\n",
              "2011  196606353  196764584  196922435  ...  198016797  198171617  198326060\n",
              "2012  198480121  198633809  198787113  ...  199849625  199999897  200149788\n",
              "2013  200299299  200448428  200597182  ...  201627809  201773522  201918857\n",
              "2014  202063812  202208383  202352574  ...  203351275  203492428  203633198\n",
              "2015  203773584  203913593  204053221  ...  205019954  205156540  205292736\n",
              "2016  205428558  205563996  205699051  ...  206633775  206765781  206897407\n",
              "2017  207028653  207159516  207289996  ...  208192668  208320097  208447142\n",
              "\n",
              "[18 rows x 12 columns]"
            ]
          },
          "metadata": {
            "tags": []
          },
          "execution_count": 68
        }
      ]
    },
    {
      "cell_type": "code",
      "metadata": {
        "id": "7_Vjw4SoTyw6",
        "colab_type": "code",
        "colab": {
          "base_uri": "https://localhost:8080/",
          "height": 255
        },
        "outputId": "0f9d86bd-05ca-4ebf-ed9d-ab8c7516a86c"
      },
      "source": [
        "df_populacao_mensal.dtypes"
      ],
      "execution_count": 69,
      "outputs": [
        {
          "output_type": "execute_result",
          "data": {
            "text/plain": [
              "MES\n",
              "Janeiro      int64\n",
              "Fevereiro    int64\n",
              "Março        int64\n",
              "Abril        int64\n",
              "Maio         int64\n",
              "Junho        int64\n",
              "Julho        int64\n",
              "Agosto       int64\n",
              "Setembro     int64\n",
              "Outubro      int64\n",
              "Novembro     int64\n",
              "Dezembro     int64\n",
              "dtype: object"
            ]
          },
          "metadata": {
            "tags": []
          },
          "execution_count": 69
        }
      ]
    },
    {
      "cell_type": "code",
      "metadata": {
        "id": "941Lh_HHhROO",
        "colab_type": "code",
        "colab": {
          "base_uri": "https://localhost:8080/",
          "height": 340
        },
        "outputId": "296ced29-f297-4190-962b-e130467767b2"
      },
      "source": [
        "ax = df_populacao_mensal.boxplot(rot=90)\n",
        "ax.set_title('Boxplot da população mensal entre 2000 e 2017')\n",
        "ax.set_ylabel('Número de habitantes')"
      ],
      "execution_count": 73,
      "outputs": [
        {
          "output_type": "execute_result",
          "data": {
            "text/plain": [
              "Text(0, 0.5, 'Número de habitantes')"
            ]
          },
          "metadata": {
            "tags": []
          },
          "execution_count": 73
        },
        {
          "output_type": "display_data",
          "data": {
            "image/png": "[encoded data removed]",
            "text/plain": [
              "<Figure size 432x288 with 1 Axes>"
            ]
          },
          "metadata": {
            "tags": []
          }
        }
      ]
    },
    {
      "cell_type": "markdown",
      "metadata": {
        "id": "l8c7TUPvJ49r",
        "colab_type": "text"
      },
      "source": [
        "# Número de suicídios por mês"
      ]
    },
    {
      "cell_type": "code",
      "metadata": {
        "id": "_M-wlw9rsYdw",
        "colab_type": "code",
        "colab": {}
      },
      "source": [
        "obitos_mes = StringIO(\"\"\"\n",
        "\"Mes\";\"2000\";\"2001\";\"2002\";\"2003\";\"2004\";\"2005\";\"2006\";\"2007\";\"2008\";\"2009\";\"2010\";\"2011\";\"2012\";\"2013\";\"2014\";\"2015\";\"2016\";\"2017\";\"Total\"\n",
        "\"Janeiro\";610;684;650;683;714;751;791;786;817;825;845;817;877;918;928;1047;941;1059;14743\n",
        "\"Fevereiro\";554;620;639;613;646;661;685;674;823;738;726;757;912;876;879;852;926;967;13548\n",
        "\"Março\";585;691;676;699;698;705;803;791;824;812;801;845;839;934;956;947;929;1055;14590\n",
        "\"Abril\";548;659;620;668;691;680;684;722;767;775;754;842;851;853;897;935;919;923;13788\n",
        "\"Maio\";522;611;622;623;658;715;680;761;715;788;809;827;801;891;825;899;927;1029;13703\n",
        "\"Junho\";520;641;563;610;629;637;627;713;714;714;702;755;767;826;802;867;879;932;12898\n",
        "\"Julho\";525;620;603;594;575;685;748;689;757;743;745;805;840;797;753;851;925;938;13193\n",
        "\"Agosto\";555;658;652;648;665;783;712;773;760;748;789;835;821;855;937;915;910;1071;14087\n",
        "\"Setembro\";532;657;634;689;672;701;688;727;787;752;768;819;888;902;917;902;962;1135;14132\n",
        "\"Outubro\";651;618;701;689;669;810;750;766;787;780;856;819;892;906;900;990;1047;1212;14843\n",
        "\"Novembro\";555;610;660;673;684;704;703;693;749;839;794;800;878;838;915;921;1016;1063;14095\n",
        "\"Dezembro\";621;669;706;672;716;718;768;773;828;860;859;931;955;937;944;1052;1052;1111;15172\n",
        "\"\"\"\n",
        ")"
      ],
      "execution_count": 0,
      "outputs": []
    },
    {
      "cell_type": "code",
      "metadata": {
        "id": "W0EXc8pRkmA5",
        "colab_type": "code",
        "outputId": "228f91d5-a980-43fa-d6a2-ea04f26490c3",
        "colab": {
          "base_uri": "https://localhost:8080/",
          "height": 452
        }
      },
      "source": [
        "df_obitos = pd.read_csv(obitos_mes, index_col=0, sep=';')\n",
        "del df_obitos['Total']\n",
        "df_obitos"
      ],
      "execution_count": 75,
      "outputs": [
        {
          "output_type": "execute_result",
          "data": {
            "text/html": [
              "<div>\n",
              "<style scoped>\n",
              "    .dataframe tbody tr th:only-of-type {\n",
              "        vertical-align: middle;\n",
              "    }\n",
              "\n",
              "    .dataframe tbody tr th {\n",
              "        vertical-align: top;\n",
              "    }\n",
              "\n",
              "    .dataframe thead th {\n",
              "        text-align: right;\n",
              "    }\n",
              "</style>\n",
              "<table border=\"1\" class=\"dataframe\">\n",
              "  <thead>\n",
              "    <tr style=\"text-align: right;\">\n",
              "      <th></th>\n",
              "      <th>2000</th>\n",
              "      <th>2001</th>\n",
              "      <th>2002</th>\n",
              "      <th>2003</th>\n",
              "      <th>2004</th>\n",
              "      <th>2005</th>\n",
              "      <th>2006</th>\n",
              "      <th>2007</th>\n",
              "      <th>2008</th>\n",
              "      <th>2009</th>\n",
              "      <th>2010</th>\n",
              "      <th>2011</th>\n",
              "      <th>2012</th>\n",
              "      <th>2013</th>\n",
              "      <th>2014</th>\n",
              "      <th>2015</th>\n",
              "      <th>2016</th>\n",
              "      <th>2017</th>\n",
              "    </tr>\n",
              "    <tr>\n",
              "      <th>Mes</th>\n",
              "      <th></th>\n",
              "      <th></th>\n",
              "      <th></th>\n",
              "      <th></th>\n",
              "      <th></th>\n",
              "      <th></th>\n",
              "      <th></th>\n",
              "      <th></th>\n",
              "      <th></th>\n",
              "      <th></th>\n",
              "      <th></th>\n",
              "      <th></th>\n",
              "      <th></th>\n",
              "      <th></th>\n",
              "      <th></th>\n",
              "      <th></th>\n",
              "      <th></th>\n",
              "      <th></th>\n",
              "    </tr>\n",
              "  </thead>\n",
              "  <tbody>\n",
              "    <tr>\n",
              "      <th>Janeiro</th>\n",
              "      <td>610</td>\n",
              "      <td>684</td>\n",
              "      <td>650</td>\n",
              "      <td>683</td>\n",
              "      <td>714</td>\n",
              "      <td>751</td>\n",
              "      <td>791</td>\n",
              "      <td>786</td>\n",
              "      <td>817</td>\n",
              "      <td>825</td>\n",
              "      <td>845</td>\n",
              "      <td>817</td>\n",
              "      <td>877</td>\n",
              "      <td>918</td>\n",
              "      <td>928</td>\n",
              "      <td>1047</td>\n",
              "      <td>941</td>\n",
              "      <td>1059</td>\n",
              "    </tr>\n",
              "    <tr>\n",
              "      <th>Fevereiro</th>\n",
              "      <td>554</td>\n",
              "      <td>620</td>\n",
              "      <td>639</td>\n",
              "      <td>613</td>\n",
              "      <td>646</td>\n",
              "      <td>661</td>\n",
              "      <td>685</td>\n",
              "      <td>674</td>\n",
              "      <td>823</td>\n",
              "      <td>738</td>\n",
              "      <td>726</td>\n",
              "      <td>757</td>\n",
              "      <td>912</td>\n",
              "      <td>876</td>\n",
              "      <td>879</td>\n",
              "      <td>852</td>\n",
              "      <td>926</td>\n",
              "      <td>967</td>\n",
              "    </tr>\n",
              "    <tr>\n",
              "      <th>Março</th>\n",
              "      <td>585</td>\n",
              "      <td>691</td>\n",
              "      <td>676</td>\n",
              "      <td>699</td>\n",
              "      <td>698</td>\n",
              "      <td>705</td>\n",
              "      <td>803</td>\n",
              "      <td>791</td>\n",
              "      <td>824</td>\n",
              "      <td>812</td>\n",
              "      <td>801</td>\n",
              "      <td>845</td>\n",
              "      <td>839</td>\n",
              "      <td>934</td>\n",
              "      <td>956</td>\n",
              "      <td>947</td>\n",
              "      <td>929</td>\n",
              "      <td>1055</td>\n",
              "    </tr>\n",
              "    <tr>\n",
              "      <th>Abril</th>\n",
              "      <td>548</td>\n",
              "      <td>659</td>\n",
              "      <td>620</td>\n",
              "      <td>668</td>\n",
              "      <td>691</td>\n",
              "      <td>680</td>\n",
              "      <td>684</td>\n",
              "      <td>722</td>\n",
              "      <td>767</td>\n",
              "      <td>775</td>\n",
              "      <td>754</td>\n",
              "      <td>842</td>\n",
              "      <td>851</td>\n",
              "      <td>853</td>\n",
              "      <td>897</td>\n",
              "      <td>935</td>\n",
              "      <td>919</td>\n",
              "      <td>923</td>\n",
              "    </tr>\n",
              "    <tr>\n",
              "      <th>Maio</th>\n",
              "      <td>522</td>\n",
              "      <td>611</td>\n",
              "      <td>622</td>\n",
              "      <td>623</td>\n",
              "      <td>658</td>\n",
              "      <td>715</td>\n",
              "      <td>680</td>\n",
              "      <td>761</td>\n",
              "      <td>715</td>\n",
              "      <td>788</td>\n",
              "      <td>809</td>\n",
              "      <td>827</td>\n",
              "      <td>801</td>\n",
              "      <td>891</td>\n",
              "      <td>825</td>\n",
              "      <td>899</td>\n",
              "      <td>927</td>\n",
              "      <td>1029</td>\n",
              "    </tr>\n",
              "    <tr>\n",
              "      <th>Junho</th>\n",
              "      <td>520</td>\n",
              "      <td>641</td>\n",
              "      <td>563</td>\n",
              "      <td>610</td>\n",
              "      <td>629</td>\n",
              "      <td>637</td>\n",
              "      <td>627</td>\n",
              "      <td>713</td>\n",
              "      <td>714</td>\n",
              "      <td>714</td>\n",
              "      <td>702</td>\n",
              "      <td>755</td>\n",
              "      <td>767</td>\n",
              "      <td>826</td>\n",
              "      <td>802</td>\n",
              "      <td>867</td>\n",
              "      <td>879</td>\n",
              "      <td>932</td>\n",
              "    </tr>\n",
              "    <tr>\n",
              "      <th>Julho</th>\n",
              "      <td>525</td>\n",
              "      <td>620</td>\n",
              "      <td>603</td>\n",
              "      <td>594</td>\n",
              "      <td>575</td>\n",
              "      <td>685</td>\n",
              "      <td>748</td>\n",
              "      <td>689</td>\n",
              "      <td>757</td>\n",
              "      <td>743</td>\n",
              "      <td>745</td>\n",
              "      <td>805</td>\n",
              "      <td>840</td>\n",
              "      <td>797</td>\n",
              "      <td>753</td>\n",
              "      <td>851</td>\n",
              "      <td>925</td>\n",
              "      <td>938</td>\n",
              "    </tr>\n",
              "    <tr>\n",
              "      <th>Agosto</th>\n",
              "      <td>555</td>\n",
              "      <td>658</td>\n",
              "      <td>652</td>\n",
              "      <td>648</td>\n",
              "      <td>665</td>\n",
              "      <td>783</td>\n",
              "      <td>712</td>\n",
              "      <td>773</td>\n",
              "      <td>760</td>\n",
              "      <td>748</td>\n",
              "      <td>789</td>\n",
              "      <td>835</td>\n",
              "      <td>821</td>\n",
              "      <td>855</td>\n",
              "      <td>937</td>\n",
              "      <td>915</td>\n",
              "      <td>910</td>\n",
              "      <td>1071</td>\n",
              "    </tr>\n",
              "    <tr>\n",
              "      <th>Setembro</th>\n",
              "      <td>532</td>\n",
              "      <td>657</td>\n",
              "      <td>634</td>\n",
              "      <td>689</td>\n",
              "      <td>672</td>\n",
              "      <td>701</td>\n",
              "      <td>688</td>\n",
              "      <td>727</td>\n",
              "      <td>787</td>\n",
              "      <td>752</td>\n",
              "      <td>768</td>\n",
              "      <td>819</td>\n",
              "      <td>888</td>\n",
              "      <td>902</td>\n",
              "      <td>917</td>\n",
              "      <td>902</td>\n",
              "      <td>962</td>\n",
              "      <td>1135</td>\n",
              "    </tr>\n",
              "    <tr>\n",
              "      <th>Outubro</th>\n",
              "      <td>651</td>\n",
              "      <td>618</td>\n",
              "      <td>701</td>\n",
              "      <td>689</td>\n",
              "      <td>669</td>\n",
              "      <td>810</td>\n",
              "      <td>750</td>\n",
              "      <td>766</td>\n",
              "      <td>787</td>\n",
              "      <td>780</td>\n",
              "      <td>856</td>\n",
              "      <td>819</td>\n",
              "      <td>892</td>\n",
              "      <td>906</td>\n",
              "      <td>900</td>\n",
              "      <td>990</td>\n",
              "      <td>1047</td>\n",
              "      <td>1212</td>\n",
              "    </tr>\n",
              "    <tr>\n",
              "      <th>Novembro</th>\n",
              "      <td>555</td>\n",
              "      <td>610</td>\n",
              "      <td>660</td>\n",
              "      <td>673</td>\n",
              "      <td>684</td>\n",
              "      <td>704</td>\n",
              "      <td>703</td>\n",
              "      <td>693</td>\n",
              "      <td>749</td>\n",
              "      <td>839</td>\n",
              "      <td>794</td>\n",
              "      <td>800</td>\n",
              "      <td>878</td>\n",
              "      <td>838</td>\n",
              "      <td>915</td>\n",
              "      <td>921</td>\n",
              "      <td>1016</td>\n",
              "      <td>1063</td>\n",
              "    </tr>\n",
              "    <tr>\n",
              "      <th>Dezembro</th>\n",
              "      <td>621</td>\n",
              "      <td>669</td>\n",
              "      <td>706</td>\n",
              "      <td>672</td>\n",
              "      <td>716</td>\n",
              "      <td>718</td>\n",
              "      <td>768</td>\n",
              "      <td>773</td>\n",
              "      <td>828</td>\n",
              "      <td>860</td>\n",
              "      <td>859</td>\n",
              "      <td>931</td>\n",
              "      <td>955</td>\n",
              "      <td>937</td>\n",
              "      <td>944</td>\n",
              "      <td>1052</td>\n",
              "      <td>1052</td>\n",
              "      <td>1111</td>\n",
              "    </tr>\n",
              "  </tbody>\n",
              "</table>\n",
              "</div>"
            ],
            "text/plain": [
              "           2000  2001  2002  2003  2004  ...  2013  2014  2015  2016  2017\n",
              "Mes                                      ...                              \n",
              "Janeiro     610   684   650   683   714  ...   918   928  1047   941  1059\n",
              "Fevereiro   554   620   639   613   646  ...   876   879   852   926   967\n",
              "Março       585   691   676   699   698  ...   934   956   947   929  1055\n",
              "Abril       548   659   620   668   691  ...   853   897   935   919   923\n",
              "Maio        522   611   622   623   658  ...   891   825   899   927  1029\n",
              "Junho       520   641   563   610   629  ...   826   802   867   879   932\n",
              "Julho       525   620   603   594   575  ...   797   753   851   925   938\n",
              "Agosto      555   658   652   648   665  ...   855   937   915   910  1071\n",
              "Setembro    532   657   634   689   672  ...   902   917   902   962  1135\n",
              "Outubro     651   618   701   689   669  ...   906   900   990  1047  1212\n",
              "Novembro    555   610   660   673   684  ...   838   915   921  1016  1063\n",
              "Dezembro    621   669   706   672   716  ...   937   944  1052  1052  1111\n",
              "\n",
              "[12 rows x 18 columns]"
            ]
          },
          "metadata": {
            "tags": []
          },
          "execution_count": 75
        }
      ]
    },
    {
      "cell_type": "code",
      "metadata": {
        "id": "MiSLRLeKljc4",
        "colab_type": "code",
        "outputId": "26da02bf-0566-48c2-853e-5d998a8c0c30",
        "colab": {
          "base_uri": "https://localhost:8080/",
          "height": 340
        }
      },
      "source": [
        "ax = df_obitos.T.boxplot(rot=90)\n",
        "ax.set_title('Boxplot do número de óbitos por meses do ano (2000 - 2017)')\n",
        "ax.set_ylabel('Número de óbidos')"
      ],
      "execution_count": 76,
      "outputs": [
        {
          "output_type": "execute_result",
          "data": {
            "text/plain": [
              "Text(0, 0.5, 'Número de óbidos')"
            ]
          },
          "metadata": {
            "tags": []
          },
          "execution_count": 76
        },
        {
          "output_type": "display_data",
          "data": {
            "image/png": "[encoded data removed]",
            "text/plain": [
              "<Figure size 432x288 with 1 Axes>"
            ]
          },
          "metadata": {
            "tags": []
          }
        }
      ]
    },
    {
      "cell_type": "code",
      "metadata": {
        "id": "Rdt7SU6Py_0N",
        "colab_type": "code",
        "outputId": "d905163d-44a1-4761-e535-00dc65ab7d71",
        "colab": {
          "base_uri": "https://localhost:8080/",
          "height": 301
        }
      },
      "source": [
        "df_obitos.sum().plot.bar() # totais por ano"
      ],
      "execution_count": 77,
      "outputs": [
        {
          "output_type": "execute_result",
          "data": {
            "text/plain": [
              "<matplotlib.axes._subplots.AxesSubplot at 0x7fead786c828>"
            ]
          },
          "metadata": {
            "tags": []
          },
          "execution_count": 77
        },
        {
          "output_type": "display_data",
          "data": {
            "image/png": "[encoded data removed]",
            "text/plain": [
              "<Figure size 432x288 with 1 Axes>"
            ]
          },
          "metadata": {
            "tags": []
          }
        }
      ]
    },
    {
      "cell_type": "code",
      "metadata": {
        "id": "gJj4-Tlmm1Vy",
        "colab_type": "code",
        "colab": {
          "base_uri": "https://localhost:8080/",
          "height": 314
        },
        "outputId": "95fc8b46-ecf5-4a74-a753-9b445f405629"
      },
      "source": [
        "ax = df_obitos.sum().div(df_populacao['População']).plot.bar()\n",
        "ax.set_title('Evolução da proporção de óbitos ao longo dos anos (2000 - 2017)')\n",
        "ax.set_ylabel('Proporção de óbidos por ano')"
      ],
      "execution_count": 132,
      "outputs": [
        {
          "output_type": "execute_result",
          "data": {
            "text/plain": [
              "Text(0, 0.5, 'Proporção de óbidos por ano')"
            ]
          },
          "metadata": {
            "tags": []
          },
          "execution_count": 132
        },
        {
          "output_type": "display_data",
          "data": {
            "image/png": "[encoded data removed]",
            "text/plain": [
              "<Figure size 432x288 with 1 Axes>"
            ]
          },
          "metadata": {
            "tags": []
          }
        }
      ]
    },
    {
      "cell_type": "code",
      "metadata": {
        "id": "U_BSKCLBnldr",
        "colab_type": "code",
        "colab": {}
      },
      "source": [
        ""
      ],
      "execution_count": 0,
      "outputs": []
    },
    {
      "cell_type": "code",
      "metadata": {
        "id": "SLcITLFEKCvI",
        "colab_type": "code",
        "outputId": "a9c319bd-fd8b-4644-f217-33d72c27166c",
        "colab": {
          "base_uri": "https://localhost:8080/",
          "height": 314
        }
      },
      "source": [
        "ax = df_obitos.boxplot(rot=90)\n",
        "ax.set_title('Boxplot do número médio de óbitos ao longo dos meses do ano (2000 - 2017)')\n",
        "ax.set_ylabel('Número de óbidos por mês')"
      ],
      "execution_count": 133,
      "outputs": [
        {
          "output_type": "execute_result",
          "data": {
            "text/plain": [
              "Text(0, 0.5, 'Número de óbidos por mês')"
            ]
          },
          "metadata": {
            "tags": []
          },
          "execution_count": 133
        },
        {
          "output_type": "display_data",
          "data": {
            "image/png": "[encoded data removed]",
            "text/plain": [
              "<Figure size 432x288 with 1 Axes>"
            ]
          },
          "metadata": {
            "tags": []
          }
        }
      ]
    },
    {
      "cell_type": "code",
      "metadata": {
        "id": "B-mRToecM2uF",
        "colab_type": "code",
        "outputId": "24b822c4-5c33-4089-88d5-01217edfaf53",
        "colab": {
          "base_uri": "https://localhost:8080/",
          "height": 286
        }
      },
      "source": [
        "df_obitos.T.plot.line()"
      ],
      "execution_count": 134,
      "outputs": [
        {
          "output_type": "execute_result",
          "data": {
            "text/plain": [
              "<matplotlib.axes._subplots.AxesSubplot at 0x7fead6c84358>"
            ]
          },
          "metadata": {
            "tags": []
          },
          "execution_count": 134
        },
        {
          "output_type": "display_data",
          "data": {
            "image/png": "[encoded data removed]",
            "text/plain": [
              "<Figure size 432x288 with 1 Axes>"
            ]
          },
          "metadata": {
            "tags": []
          }
        }
      ]
    },
    {
      "cell_type": "markdown",
      "metadata": {
        "id": "OTcVB2pPzxmH",
        "colab_type": "text"
      },
      "source": [
        "## Normalizar proporção (óbitos por mês divididos pela população no mês do respectivo ano)"
      ]
    },
    {
      "cell_type": "code",
      "metadata": {
        "id": "lO4V-cCUtgdH",
        "colab_type": "code",
        "colab": {
          "base_uri": "https://localhost:8080/",
          "height": 627
        },
        "outputId": "cd82ccbc-aed7-4b95-a9cb-faf97ed34d80"
      },
      "source": [
        "df_obitos_proporcao = df_obitos.copy()\n",
        "df_obitos_proporcao = df_obitos_proporcao.T.div(df_populacao_mensal)# .apply(lambda x: x/df_populacao_mensal.loc[x.index][x._name], axis=1)\n",
        "df_obitos_proporcao = df_obitos_proporcao.multiply(100000) # por 100.000 habitates\n",
        "df_obitos_proporcao"
      ],
      "execution_count": 135,
      "outputs": [
        {
          "output_type": "execute_result",
          "data": {
            "text/html": [
              "<div>\n",
              "<style scoped>\n",
              "    .dataframe tbody tr th:only-of-type {\n",
              "        vertical-align: middle;\n",
              "    }\n",
              "\n",
              "    .dataframe tbody tr th {\n",
              "        vertical-align: top;\n",
              "    }\n",
              "\n",
              "    .dataframe thead th {\n",
              "        text-align: right;\n",
              "    }\n",
              "</style>\n",
              "<table border=\"1\" class=\"dataframe\">\n",
              "  <thead>\n",
              "    <tr style=\"text-align: right;\">\n",
              "      <th>Mes</th>\n",
              "      <th>Janeiro</th>\n",
              "      <th>Fevereiro</th>\n",
              "      <th>Março</th>\n",
              "      <th>Abril</th>\n",
              "      <th>Maio</th>\n",
              "      <th>Junho</th>\n",
              "      <th>Julho</th>\n",
              "      <th>Agosto</th>\n",
              "      <th>Setembro</th>\n",
              "      <th>Outubro</th>\n",
              "      <th>Novembro</th>\n",
              "      <th>Dezembro</th>\n",
              "    </tr>\n",
              "  </thead>\n",
              "  <tbody>\n",
              "    <tr>\n",
              "      <th>2000</th>\n",
              "      <td>0.353804</td>\n",
              "      <td>0.320937</td>\n",
              "      <td>0.338488</td>\n",
              "      <td>0.316700</td>\n",
              "      <td>0.301314</td>\n",
              "      <td>0.299803</td>\n",
              "      <td>0.302326</td>\n",
              "      <td>0.319224</td>\n",
              "      <td>0.305634</td>\n",
              "      <td>0.373560</td>\n",
              "      <td>0.318100</td>\n",
              "      <td>0.355512</td>\n",
              "    </tr>\n",
              "    <tr>\n",
              "      <th>2001</th>\n",
              "      <td>0.391122</td>\n",
              "      <td>0.354114</td>\n",
              "      <td>0.394209</td>\n",
              "      <td>0.375519</td>\n",
              "      <td>0.347766</td>\n",
              "      <td>0.364423</td>\n",
              "      <td>0.352080</td>\n",
              "      <td>0.373233</td>\n",
              "      <td>0.372242</td>\n",
              "      <td>0.349748</td>\n",
              "      <td>0.344831</td>\n",
              "      <td>0.377757</td>\n",
              "    </tr>\n",
              "    <tr>\n",
              "      <th>2002</th>\n",
              "      <td>0.366616</td>\n",
              "      <td>0.360008</td>\n",
              "      <td>0.380428</td>\n",
              "      <td>0.348524</td>\n",
              "      <td>0.349260</td>\n",
              "      <td>0.315781</td>\n",
              "      <td>0.337843</td>\n",
              "      <td>0.364895</td>\n",
              "      <td>0.354432</td>\n",
              "      <td>0.391459</td>\n",
              "      <td>0.368161</td>\n",
              "      <td>0.393393</td>\n",
              "    </tr>\n",
              "    <tr>\n",
              "      <th>2003</th>\n",
              "      <td>0.380164</td>\n",
              "      <td>0.340833</td>\n",
              "      <td>0.388230</td>\n",
              "      <td>0.370614</td>\n",
              "      <td>0.345277</td>\n",
              "      <td>0.337712</td>\n",
              "      <td>0.328503</td>\n",
              "      <td>0.357987</td>\n",
              "      <td>0.380235</td>\n",
              "      <td>0.379833</td>\n",
              "      <td>0.370623</td>\n",
              "      <td>0.369684</td>\n",
              "    </tr>\n",
              "    <tr>\n",
              "      <th>2004</th>\n",
              "      <td>0.392378</td>\n",
              "      <td>0.354639</td>\n",
              "      <td>0.382787</td>\n",
              "      <td>0.378556</td>\n",
              "      <td>0.360105</td>\n",
              "      <td>0.343879</td>\n",
              "      <td>0.314034</td>\n",
              "      <td>0.362816</td>\n",
              "      <td>0.366261</td>\n",
              "      <td>0.364255</td>\n",
              "      <td>0.372044</td>\n",
              "      <td>0.389055</td>\n",
              "    </tr>\n",
              "    <tr>\n",
              "      <th>2005</th>\n",
              "      <td>0.407662</td>\n",
              "      <td>0.358447</td>\n",
              "      <td>0.381924</td>\n",
              "      <td>0.368013</td>\n",
              "      <td>0.386569</td>\n",
              "      <td>0.344056</td>\n",
              "      <td>0.369615</td>\n",
              "      <td>0.422077</td>\n",
              "      <td>0.377503</td>\n",
              "      <td>0.435774</td>\n",
              "      <td>0.378376</td>\n",
              "      <td>0.385524</td>\n",
              "    </tr>\n",
              "    <tr>\n",
              "      <th>2006</th>\n",
              "      <td>0.424308</td>\n",
              "      <td>0.367092</td>\n",
              "      <td>0.429912</td>\n",
              "      <td>0.365849</td>\n",
              "      <td>0.363360</td>\n",
              "      <td>0.334718</td>\n",
              "      <td>0.398932</td>\n",
              "      <td>0.379371</td>\n",
              "      <td>0.366235</td>\n",
              "      <td>0.398861</td>\n",
              "      <td>0.373513</td>\n",
              "      <td>0.407665</td>\n",
              "    </tr>\n",
              "    <tr>\n",
              "      <th>2007</th>\n",
              "      <td>0.416829</td>\n",
              "      <td>0.357099</td>\n",
              "      <td>0.418698</td>\n",
              "      <td>0.381819</td>\n",
              "      <td>0.402071</td>\n",
              "      <td>0.376363</td>\n",
              "      <td>0.363360</td>\n",
              "      <td>0.407285</td>\n",
              "      <td>0.382698</td>\n",
              "      <td>0.402860</td>\n",
              "      <td>0.364136</td>\n",
              "      <td>0.405804</td>\n",
              "    </tr>\n",
              "    <tr>\n",
              "      <th>2008</th>\n",
              "      <td>0.428516</td>\n",
              "      <td>0.431274</td>\n",
              "      <td>0.431410</td>\n",
              "      <td>0.401208</td>\n",
              "      <td>0.373674</td>\n",
              "      <td>0.372819</td>\n",
              "      <td>0.394922</td>\n",
              "      <td>0.396136</td>\n",
              "      <td>0.409848</td>\n",
              "      <td>0.409488</td>\n",
              "      <td>0.389375</td>\n",
              "      <td>0.430068</td>\n",
              "    </tr>\n",
              "    <tr>\n",
              "      <th>2009</th>\n",
              "      <td>0.428137</td>\n",
              "      <td>0.382656</td>\n",
              "      <td>0.420661</td>\n",
              "      <td>0.401147</td>\n",
              "      <td>0.407525</td>\n",
              "      <td>0.368939</td>\n",
              "      <td>0.383596</td>\n",
              "      <td>0.385848</td>\n",
              "      <td>0.387583</td>\n",
              "      <td>0.401674</td>\n",
              "      <td>0.431692</td>\n",
              "      <td>0.442125</td>\n",
              "    </tr>\n",
              "    <tr>\n",
              "      <th>2010</th>\n",
              "      <td>0.434050</td>\n",
              "      <td>0.372612</td>\n",
              "      <td>0.410762</td>\n",
              "      <td>0.386339</td>\n",
              "      <td>0.414178</td>\n",
              "      <td>0.359101</td>\n",
              "      <td>0.380784</td>\n",
              "      <td>0.402943</td>\n",
              "      <td>0.391897</td>\n",
              "      <td>0.436447</td>\n",
              "      <td>0.404506</td>\n",
              "      <td>0.437266</td>\n",
              "    </tr>\n",
              "    <tr>\n",
              "      <th>2011</th>\n",
              "      <td>0.415551</td>\n",
              "      <td>0.384724</td>\n",
              "      <td>0.429103</td>\n",
              "      <td>0.427238</td>\n",
              "      <td>0.419293</td>\n",
              "      <td>0.382484</td>\n",
              "      <td>0.407492</td>\n",
              "      <td>0.422344</td>\n",
              "      <td>0.413926</td>\n",
              "      <td>0.413601</td>\n",
              "      <td>0.403691</td>\n",
              "      <td>0.469429</td>\n",
              "    </tr>\n",
              "    <tr>\n",
              "      <th>2012</th>\n",
              "      <td>0.441858</td>\n",
              "      <td>0.459136</td>\n",
              "      <td>0.422060</td>\n",
              "      <td>0.427767</td>\n",
              "      <td>0.402325</td>\n",
              "      <td>0.384954</td>\n",
              "      <td>0.421271</td>\n",
              "      <td>0.411430</td>\n",
              "      <td>0.444669</td>\n",
              "      <td>0.446336</td>\n",
              "      <td>0.439000</td>\n",
              "      <td>0.477143</td>\n",
              "    </tr>\n",
              "    <tr>\n",
              "      <th>2013</th>\n",
              "      <td>0.458314</td>\n",
              "      <td>0.437020</td>\n",
              "      <td>0.465610</td>\n",
              "      <td>0.424916</td>\n",
              "      <td>0.443518</td>\n",
              "      <td>0.410861</td>\n",
              "      <td>0.396146</td>\n",
              "      <td>0.424665</td>\n",
              "      <td>0.447683</td>\n",
              "      <td>0.449343</td>\n",
              "      <td>0.415317</td>\n",
              "      <td>0.464048</td>\n",
              "    </tr>\n",
              "    <tr>\n",
              "      <th>2014</th>\n",
              "      <td>0.459261</td>\n",
              "      <td>0.434700</td>\n",
              "      <td>0.472443</td>\n",
              "      <td>0.442971</td>\n",
              "      <td>0.407126</td>\n",
              "      <td>0.395497</td>\n",
              "      <td>0.371072</td>\n",
              "      <td>0.461422</td>\n",
              "      <td>0.451258</td>\n",
              "      <td>0.442584</td>\n",
              "      <td>0.449648</td>\n",
              "      <td>0.463579</td>\n",
              "    </tr>\n",
              "    <tr>\n",
              "      <th>2015</th>\n",
              "      <td>0.513806</td>\n",
              "      <td>0.417824</td>\n",
              "      <td>0.464095</td>\n",
              "      <td>0.457901</td>\n",
              "      <td>0.439972</td>\n",
              "      <td>0.424023</td>\n",
              "      <td>0.415917</td>\n",
              "      <td>0.446896</td>\n",
              "      <td>0.440251</td>\n",
              "      <td>0.482880</td>\n",
              "      <td>0.448925</td>\n",
              "      <td>0.512439</td>\n",
              "    </tr>\n",
              "    <tr>\n",
              "      <th>2016</th>\n",
              "      <td>0.458067</td>\n",
              "      <td>0.450468</td>\n",
              "      <td>0.451631</td>\n",
              "      <td>0.446477</td>\n",
              "      <td>0.450070</td>\n",
              "      <td>0.426488</td>\n",
              "      <td>0.448516</td>\n",
              "      <td>0.440959</td>\n",
              "      <td>0.465856</td>\n",
              "      <td>0.506694</td>\n",
              "      <td>0.491377</td>\n",
              "      <td>0.508465</td>\n",
              "    </tr>\n",
              "    <tr>\n",
              "      <th>2017</th>\n",
              "      <td>0.511523</td>\n",
              "      <td>0.466790</td>\n",
              "      <td>0.508949</td>\n",
              "      <td>0.444991</td>\n",
              "      <td>0.495785</td>\n",
              "      <td>0.448769</td>\n",
              "      <td>0.451378</td>\n",
              "      <td>0.515061</td>\n",
              "      <td>0.545503</td>\n",
              "      <td>0.582153</td>\n",
              "      <td>0.510272</td>\n",
              "      <td>0.532989</td>\n",
              "    </tr>\n",
              "  </tbody>\n",
              "</table>\n",
              "</div>"
            ],
            "text/plain": [
              "Mes    Janeiro  Fevereiro     Março  ...   Outubro  Novembro  Dezembro\n",
              "2000  0.353804   0.320937  0.338488  ...  0.373560  0.318100  0.355512\n",
              "2001  0.391122   0.354114  0.394209  ...  0.349748  0.344831  0.377757\n",
              "2002  0.366616   0.360008  0.380428  ...  0.391459  0.368161  0.393393\n",
              "2003  0.380164   0.340833  0.388230  ...  0.379833  0.370623  0.369684\n",
              "2004  0.392378   0.354639  0.382787  ...  0.364255  0.372044  0.389055\n",
              "2005  0.407662   0.358447  0.381924  ...  0.435774  0.378376  0.385524\n",
              "2006  0.424308   0.367092  0.429912  ...  0.398861  0.373513  0.407665\n",
              "2007  0.416829   0.357099  0.418698  ...  0.402860  0.364136  0.405804\n",
              "2008  0.428516   0.431274  0.431410  ...  0.409488  0.389375  0.430068\n",
              "2009  0.428137   0.382656  0.420661  ...  0.401674  0.431692  0.442125\n",
              "2010  0.434050   0.372612  0.410762  ...  0.436447  0.404506  0.437266\n",
              "2011  0.415551   0.384724  0.429103  ...  0.413601  0.403691  0.469429\n",
              "2012  0.441858   0.459136  0.422060  ...  0.446336  0.439000  0.477143\n",
              "2013  0.458314   0.437020  0.465610  ...  0.449343  0.415317  0.464048\n",
              "2014  0.459261   0.434700  0.472443  ...  0.442584  0.449648  0.463579\n",
              "2015  0.513806   0.417824  0.464095  ...  0.482880  0.448925  0.512439\n",
              "2016  0.458067   0.450468  0.451631  ...  0.506694  0.491377  0.508465\n",
              "2017  0.511523   0.466790  0.508949  ...  0.582153  0.510272  0.532989\n",
              "\n",
              "[18 rows x 12 columns]"
            ]
          },
          "metadata": {
            "tags": []
          },
          "execution_count": 135
        }
      ]
    },
    {
      "cell_type": "code",
      "metadata": {
        "id": "F_DKkKW_0FxN",
        "colab_type": "code",
        "colab": {}
      },
      "source": [
        ""
      ],
      "execution_count": 0,
      "outputs": []
    },
    {
      "cell_type": "code",
      "metadata": {
        "id": "LtEB6gGg1FRB",
        "colab_type": "code",
        "outputId": "d8c56a4c-4cd7-48cd-9a0b-c1b286e310f7",
        "colab": {
          "base_uri": "https://localhost:8080/",
          "height": 340
        }
      },
      "source": [
        "ax = df_obitos_proporcao.boxplot(rot=90)\n",
        "ax.set_title('Boxplot do número de óbitos por meses do ano (2000 - 2017)')\n",
        "ax.set_ylabel('Número de óbidos por 100k habitantes')"
      ],
      "execution_count": 136,
      "outputs": [
        {
          "output_type": "execute_result",
          "data": {
            "text/plain": [
              "Text(0, 0.5, 'Número de óbidos por 100k habitantes')"
            ]
          },
          "metadata": {
            "tags": []
          },
          "execution_count": 136
        },
        {
          "output_type": "display_data",
          "data": {
            "image/png": "[encoded data removed]",
            "text/plain": [
              "<Figure size 432x288 with 1 Axes>"
            ]
          },
          "metadata": {
            "tags": []
          }
        }
      ]
    },
    {
      "cell_type": "code",
      "metadata": {
        "id": "elvehBSymeqI",
        "colab_type": "code",
        "outputId": "21c22cdc-5808-45d8-a214-0ae4528f8b14",
        "colab": {
          "base_uri": "https://localhost:8080/",
          "height": 577
        }
      },
      "source": [
        "plt.figure(1)\n",
        "ax = df_obitos_proporcao.T.boxplot(rot=90)\n",
        "ax.set_title('Boxplot da proporção média de óbitos ao longo dos meses do ano (2000 - 2017)')\n",
        "ax.set_ylabel('Número de óbidos por 100k habitantes')\n",
        "\n",
        "plt.figure(2)\n",
        "ax2 = df_obitos.boxplot(rot=90)\n",
        "ax2.set_title('Boxplot do número médio de óbitos ao longo dos meses do ano (2000 - 2017)')\n",
        "ax2.set_ylabel('Número de óbidos por mês')\n",
        "\n",
        "plt.show()"
      ],
      "execution_count": 147,
      "outputs": [
        {
          "output_type": "display_data",
          "data": {
            "image/png": "[encoded data removed]",
            "text/plain": [
              "<Figure size 432x288 with 1 Axes>"
            ]
          },
          "metadata": {
            "tags": []
          }
        },
        {
          "output_type": "display_data",
          "data": {
            "image/png": "[encoded data removed]",
            "text/plain": [
              "<Figure size 432x288 with 1 Axes>"
            ]
          },
          "metadata": {
            "tags": []
          }
        }
      ]
    },
    {
      "cell_type": "code",
      "metadata": {
        "id": "kTcvXUilMadL",
        "colab_type": "code",
        "outputId": "82677c91-9353-45ee-fa34-53755c03bfd0",
        "colab": {
          "base_uri": "https://localhost:8080/",
          "height": 286
        }
      },
      "source": [
        "df_obitos_proporcao.plot.line()"
      ],
      "execution_count": 148,
      "outputs": [
        {
          "output_type": "execute_result",
          "data": {
            "text/plain": [
              "<matplotlib.axes._subplots.AxesSubplot at 0x7fead62f4898>"
            ]
          },
          "metadata": {
            "tags": []
          },
          "execution_count": 148
        },
        {
          "output_type": "display_data",
          "data": {
            "image/png": "[encoded data removed]",
            "text/plain": [
              "<Figure size 432x288 with 1 Axes>"
            ]
          },
          "metadata": {
            "tags": []
          }
        }
      ]
    },
    {
      "cell_type": "markdown",
      "metadata": {
        "id": "8gSkoJdZ2Pzk",
        "colab_type": "text"
      },
      "source": [
        "# Salvar arquivos para testes estatísticos"
      ]
    },
    {
      "cell_type": "code",
      "metadata": {
        "id": "MOqWZ_0M2TDv",
        "colab_type": "code",
        "outputId": "4d36c861-15ac-4c7a-d816-88dfe15e7f0f",
        "colab": {
          "base_uri": "https://localhost:8080/",
          "height": 105
        }
      },
      "source": [
        "df_obitos.T.to_csv('df_obitos.csv', sep=';')\n",
        "df_obitos_proporcao.to_csv('df_obitos_proporcao.csv', sep=';')\n",
        "df_obitos.sum(axis=1).to_csv('df_obitos_soma_por_mes.csv', sep=';')\n",
        "df_obitos.sum(axis=0).to_csv('df_obitos_soma_por_ano.csv', sep=';')\n",
        "df_populacao.to_csv('df_populacao.csv', sep=';')"
      ],
      "execution_count": 149,
      "outputs": [
        {
          "output_type": "stream",
          "text": [
            "/usr/local/lib/python3.6/dist-packages/ipykernel_launcher.py:3: FutureWarning: The signature of `Series.to_csv` was aligned to that of `DataFrame.to_csv`, and argument 'header' will change its default value from False to True: please pass an explicit value to suppress this warning.\n",
            "  This is separate from the ipykernel package so we can avoid doing imports until\n",
            "/usr/local/lib/python3.6/dist-packages/ipykernel_launcher.py:4: FutureWarning: The signature of `Series.to_csv` was aligned to that of `DataFrame.to_csv`, and argument 'header' will change its default value from False to True: please pass an explicit value to suppress this warning.\n",
            "  after removing the cwd from sys.path.\n"
          ],
          "name": "stderr"
        }
      ]
    },
    {
      "cell_type": "code",
      "metadata": {
        "id": "PnrPb2a12VXO",
        "colab_type": "code",
        "colab": {}
      },
      "source": [
        ""
      ],
      "execution_count": 0,
      "outputs": []
    }
  ]
}