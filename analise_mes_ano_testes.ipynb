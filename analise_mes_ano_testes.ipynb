{
  "nbformat": 4,
  "nbformat_minor": 0,
  "metadata": {
    "colab": {
      "name": "analise_mes_ano_testes.ipynb",
      "version": "0.3.2",
      "provenance": [],
      "collapsed_sections": [],
      "toc_visible": true,
      "include_colab_link": true
    },
    "language_info": {
      "codemirror_mode": "r",
      "file_extension": ".r",
      "mimetype": "text/x-r-source",
      "name": "R",
      "pygments_lexer": "r",
      "version": "3.3.1"
    },
    "kernelspec": {
      "display_name": "R",
      "language": "R",
      "name": "ir"
    }
  },
  "cells": [
    {
      "cell_type": "markdown",
      "metadata": {
        "id": "view-in-github",
        "colab_type": "text"
      },
      "source": [
        "<a href=\"https://colab.research.google.com/github/jamissonfreitas/IN1119/blob/master/analise_mes_ano_testes.ipynb\" target=\"_parent\"><img src=\"https://colab.research.google.com/assets/colab-badge.svg\" alt=\"Open In Colab\"/></a>"
      ]
    },
    {
      "cell_type": "code",
      "metadata": {
        "id": "QqtdiwjM3vs6",
        "colab_type": "code",
        "colab": {}
      },
      "source": [
        "library('ggplot2')\n",
        "library('dplyr')\n",
        "set.seed(1234)"
      ],
      "execution_count": 0,
      "outputs": []
    },
    {
      "cell_type": "markdown",
      "metadata": {
        "id": "ETw7kNDVCvLV",
        "colab_type": "text"
      },
      "source": [
        "# Dados"
      ]
    },
    {
      "cell_type": "code",
      "metadata": {
        "id": "v7Bwz6IC28Ka",
        "colab_type": "code",
        "outputId": "a4d07c9c-10d6-4eaa-be3d-d659afb9b598",
        "colab": {
          "base_uri": "https://localhost:8080/",
          "height": 464
        }
      },
      "source": [
        "# Open file\n",
        "df_obitos <- read.csv('df_obitos.csv', row.names = 1, sep = ';')\n",
        "df_obitos"
      ],
      "execution_count": 5,
      "outputs": [
        {
          "output_type": "display_data",
          "data": {
            "text/plain": [
              "     Janeiro Fevereiro Março Abril Maio Junho Julho Agosto Setembro Outubro\n",
              "2000  610    554        585  548    522 520   525    555    532      651   \n",
              "2001  684    620        691  659    611 641   620    658    657      618   \n",
              "2002  650    639        676  620    622 563   603    652    634      701   \n",
              "2003  683    613        699  668    623 610   594    648    689      689   \n",
              "2004  714    646        698  691    658 629   575    665    672      669   \n",
              "2005  751    661        705  680    715 637   685    783    701      810   \n",
              "2006  791    685        803  684    680 627   748    712    688      750   \n",
              "2007  786    674        791  722    761 713   689    773    727      766   \n",
              "2008  817    823        824  767    715 714   757    760    787      787   \n",
              "2009  825    738        812  775    788 714   743    748    752      780   \n",
              "2010  845    726        801  754    809 702   745    789    768      856   \n",
              "2011  817    757        845  842    827 755   805    835    819      819   \n",
              "2012  877    912        839  851    801 767   840    821    888      892   \n",
              "2013  918    876        934  853    891 826   797    855    902      906   \n",
              "2014  928    879        956  897    825 802   753    937    917      900   \n",
              "2015 1047    852        947  935    899 867   851    915    902      990   \n",
              "2016  941    926        929  919    927 879   925    910    962     1047   \n",
              "2017 1059    967       1055  923   1029 932   938   1071   1135     1212   \n",
              "     Novembro Dezembro\n",
              "2000  555      621    \n",
              "2001  610      669    \n",
              "2002  660      706    \n",
              "2003  673      672    \n",
              "2004  684      716    \n",
              "2005  704      718    \n",
              "2006  703      768    \n",
              "2007  693      773    \n",
              "2008  749      828    \n",
              "2009  839      860    \n",
              "2010  794      859    \n",
              "2011  800      931    \n",
              "2012  878      955    \n",
              "2013  838      937    \n",
              "2014  915      944    \n",
              "2015  921     1052    \n",
              "2016 1016     1052    \n",
              "2017 1063     1111    "
            ],
            "text/latex": "A data.frame: 18 × 12\n\\begin{tabular}{r|llllllllllll}\n  & Janeiro & Fevereiro & Março & Abril & Maio & Junho & Julho & Agosto & Setembro & Outubro & Novembro & Dezembro\\\\\n  & <int> & <int> & <int> & <int> & <int> & <int> & <int> & <int> & <int> & <int> & <int> & <int>\\\\\n\\hline\n\t2000 &  610 & 554 &  585 & 548 &  522 & 520 & 525 &  555 &  532 &  651 &  555 &  621\\\\\n\t2001 &  684 & 620 &  691 & 659 &  611 & 641 & 620 &  658 &  657 &  618 &  610 &  669\\\\\n\t2002 &  650 & 639 &  676 & 620 &  622 & 563 & 603 &  652 &  634 &  701 &  660 &  706\\\\\n\t2003 &  683 & 613 &  699 & 668 &  623 & 610 & 594 &  648 &  689 &  689 &  673 &  672\\\\\n\t2004 &  714 & 646 &  698 & 691 &  658 & 629 & 575 &  665 &  672 &  669 &  684 &  716\\\\\n\t2005 &  751 & 661 &  705 & 680 &  715 & 637 & 685 &  783 &  701 &  810 &  704 &  718\\\\\n\t2006 &  791 & 685 &  803 & 684 &  680 & 627 & 748 &  712 &  688 &  750 &  703 &  768\\\\\n\t2007 &  786 & 674 &  791 & 722 &  761 & 713 & 689 &  773 &  727 &  766 &  693 &  773\\\\\n\t2008 &  817 & 823 &  824 & 767 &  715 & 714 & 757 &  760 &  787 &  787 &  749 &  828\\\\\n\t2009 &  825 & 738 &  812 & 775 &  788 & 714 & 743 &  748 &  752 &  780 &  839 &  860\\\\\n\t2010 &  845 & 726 &  801 & 754 &  809 & 702 & 745 &  789 &  768 &  856 &  794 &  859\\\\\n\t2011 &  817 & 757 &  845 & 842 &  827 & 755 & 805 &  835 &  819 &  819 &  800 &  931\\\\\n\t2012 &  877 & 912 &  839 & 851 &  801 & 767 & 840 &  821 &  888 &  892 &  878 &  955\\\\\n\t2013 &  918 & 876 &  934 & 853 &  891 & 826 & 797 &  855 &  902 &  906 &  838 &  937\\\\\n\t2014 &  928 & 879 &  956 & 897 &  825 & 802 & 753 &  937 &  917 &  900 &  915 &  944\\\\\n\t2015 & 1047 & 852 &  947 & 935 &  899 & 867 & 851 &  915 &  902 &  990 &  921 & 1052\\\\\n\t2016 &  941 & 926 &  929 & 919 &  927 & 879 & 925 &  910 &  962 & 1047 & 1016 & 1052\\\\\n\t2017 & 1059 & 967 & 1055 & 923 & 1029 & 932 & 938 & 1071 & 1135 & 1212 & 1063 & 1111\\\\\n\\end{tabular}\n",
            "text/markdown": "\nA data.frame: 18 × 12\n\n| <!--/--> | Janeiro &lt;int&gt; | Fevereiro &lt;int&gt; | Março &lt;int&gt; | Abril &lt;int&gt; | Maio &lt;int&gt; | Junho &lt;int&gt; | Julho &lt;int&gt; | Agosto &lt;int&gt; | Setembro &lt;int&gt; | Outubro &lt;int&gt; | Novembro &lt;int&gt; | Dezembro &lt;int&gt; |\n|---|---|---|---|---|---|---|---|---|---|---|---|---|\n| 2000 |  610 | 554 |  585 | 548 |  522 | 520 | 525 |  555 |  532 |  651 |  555 |  621 |\n| 2001 |  684 | 620 |  691 | 659 |  611 | 641 | 620 |  658 |  657 |  618 |  610 |  669 |\n| 2002 |  650 | 639 |  676 | 620 |  622 | 563 | 603 |  652 |  634 |  701 |  660 |  706 |\n| 2003 |  683 | 613 |  699 | 668 |  623 | 610 | 594 |  648 |  689 |  689 |  673 |  672 |\n| 2004 |  714 | 646 |  698 | 691 |  658 | 629 | 575 |  665 |  672 |  669 |  684 |  716 |\n| 2005 |  751 | 661 |  705 | 680 |  715 | 637 | 685 |  783 |  701 |  810 |  704 |  718 |\n| 2006 |  791 | 685 |  803 | 684 |  680 | 627 | 748 |  712 |  688 |  750 |  703 |  768 |\n| 2007 |  786 | 674 |  791 | 722 |  761 | 713 | 689 |  773 |  727 |  766 |  693 |  773 |\n| 2008 |  817 | 823 |  824 | 767 |  715 | 714 | 757 |  760 |  787 |  787 |  749 |  828 |\n| 2009 |  825 | 738 |  812 | 775 |  788 | 714 | 743 |  748 |  752 |  780 |  839 |  860 |\n| 2010 |  845 | 726 |  801 | 754 |  809 | 702 | 745 |  789 |  768 |  856 |  794 |  859 |\n| 2011 |  817 | 757 |  845 | 842 |  827 | 755 | 805 |  835 |  819 |  819 |  800 |  931 |\n| 2012 |  877 | 912 |  839 | 851 |  801 | 767 | 840 |  821 |  888 |  892 |  878 |  955 |\n| 2013 |  918 | 876 |  934 | 853 |  891 | 826 | 797 |  855 |  902 |  906 |  838 |  937 |\n| 2014 |  928 | 879 |  956 | 897 |  825 | 802 | 753 |  937 |  917 |  900 |  915 |  944 |\n| 2015 | 1047 | 852 |  947 | 935 |  899 | 867 | 851 |  915 |  902 |  990 |  921 | 1052 |\n| 2016 |  941 | 926 |  929 | 919 |  927 | 879 | 925 |  910 |  962 | 1047 | 1016 | 1052 |\n| 2017 | 1059 | 967 | 1055 | 923 | 1029 | 932 | 938 | 1071 | 1135 | 1212 | 1063 | 1111 |\n\n",
            "text/html": [
              "<table>\n",
              "<caption>A data.frame: 18 × 12</caption>\n",
              "<thead>\n",
              "\t<tr><th></th><th scope=col>Janeiro</th><th scope=col>Fevereiro</th><th scope=col>Março</th><th scope=col>Abril</th><th scope=col>Maio</th><th scope=col>Junho</th><th scope=col>Julho</th><th scope=col>Agosto</th><th scope=col>Setembro</th><th scope=col>Outubro</th><th scope=col>Novembro</th><th scope=col>Dezembro</th></tr>\n",
              "\t<tr><th></th><th scope=col>&lt;int&gt;</th><th scope=col>&lt;int&gt;</th><th scope=col>&lt;int&gt;</th><th scope=col>&lt;int&gt;</th><th scope=col>&lt;int&gt;</th><th scope=col>&lt;int&gt;</th><th scope=col>&lt;int&gt;</th><th scope=col>&lt;int&gt;</th><th scope=col>&lt;int&gt;</th><th scope=col>&lt;int&gt;</th><th scope=col>&lt;int&gt;</th><th scope=col>&lt;int&gt;</th></tr>\n",
              "</thead>\n",
              "<tbody>\n",
              "\t<tr><th scope=row>2000</th><td> 610</td><td>554</td><td> 585</td><td>548</td><td> 522</td><td>520</td><td>525</td><td> 555</td><td> 532</td><td> 651</td><td> 555</td><td> 621</td></tr>\n",
              "\t<tr><th scope=row>2001</th><td> 684</td><td>620</td><td> 691</td><td>659</td><td> 611</td><td>641</td><td>620</td><td> 658</td><td> 657</td><td> 618</td><td> 610</td><td> 669</td></tr>\n",
              "\t<tr><th scope=row>2002</th><td> 650</td><td>639</td><td> 676</td><td>620</td><td> 622</td><td>563</td><td>603</td><td> 652</td><td> 634</td><td> 701</td><td> 660</td><td> 706</td></tr>\n",
              "\t<tr><th scope=row>2003</th><td> 683</td><td>613</td><td> 699</td><td>668</td><td> 623</td><td>610</td><td>594</td><td> 648</td><td> 689</td><td> 689</td><td> 673</td><td> 672</td></tr>\n",
              "\t<tr><th scope=row>2004</th><td> 714</td><td>646</td><td> 698</td><td>691</td><td> 658</td><td>629</td><td>575</td><td> 665</td><td> 672</td><td> 669</td><td> 684</td><td> 716</td></tr>\n",
              "\t<tr><th scope=row>2005</th><td> 751</td><td>661</td><td> 705</td><td>680</td><td> 715</td><td>637</td><td>685</td><td> 783</td><td> 701</td><td> 810</td><td> 704</td><td> 718</td></tr>\n",
              "\t<tr><th scope=row>2006</th><td> 791</td><td>685</td><td> 803</td><td>684</td><td> 680</td><td>627</td><td>748</td><td> 712</td><td> 688</td><td> 750</td><td> 703</td><td> 768</td></tr>\n",
              "\t<tr><th scope=row>2007</th><td> 786</td><td>674</td><td> 791</td><td>722</td><td> 761</td><td>713</td><td>689</td><td> 773</td><td> 727</td><td> 766</td><td> 693</td><td> 773</td></tr>\n",
              "\t<tr><th scope=row>2008</th><td> 817</td><td>823</td><td> 824</td><td>767</td><td> 715</td><td>714</td><td>757</td><td> 760</td><td> 787</td><td> 787</td><td> 749</td><td> 828</td></tr>\n",
              "\t<tr><th scope=row>2009</th><td> 825</td><td>738</td><td> 812</td><td>775</td><td> 788</td><td>714</td><td>743</td><td> 748</td><td> 752</td><td> 780</td><td> 839</td><td> 860</td></tr>\n",
              "\t<tr><th scope=row>2010</th><td> 845</td><td>726</td><td> 801</td><td>754</td><td> 809</td><td>702</td><td>745</td><td> 789</td><td> 768</td><td> 856</td><td> 794</td><td> 859</td></tr>\n",
              "\t<tr><th scope=row>2011</th><td> 817</td><td>757</td><td> 845</td><td>842</td><td> 827</td><td>755</td><td>805</td><td> 835</td><td> 819</td><td> 819</td><td> 800</td><td> 931</td></tr>\n",
              "\t<tr><th scope=row>2012</th><td> 877</td><td>912</td><td> 839</td><td>851</td><td> 801</td><td>767</td><td>840</td><td> 821</td><td> 888</td><td> 892</td><td> 878</td><td> 955</td></tr>\n",
              "\t<tr><th scope=row>2013</th><td> 918</td><td>876</td><td> 934</td><td>853</td><td> 891</td><td>826</td><td>797</td><td> 855</td><td> 902</td><td> 906</td><td> 838</td><td> 937</td></tr>\n",
              "\t<tr><th scope=row>2014</th><td> 928</td><td>879</td><td> 956</td><td>897</td><td> 825</td><td>802</td><td>753</td><td> 937</td><td> 917</td><td> 900</td><td> 915</td><td> 944</td></tr>\n",
              "\t<tr><th scope=row>2015</th><td>1047</td><td>852</td><td> 947</td><td>935</td><td> 899</td><td>867</td><td>851</td><td> 915</td><td> 902</td><td> 990</td><td> 921</td><td>1052</td></tr>\n",
              "\t<tr><th scope=row>2016</th><td> 941</td><td>926</td><td> 929</td><td>919</td><td> 927</td><td>879</td><td>925</td><td> 910</td><td> 962</td><td>1047</td><td>1016</td><td>1052</td></tr>\n",
              "\t<tr><th scope=row>2017</th><td>1059</td><td>967</td><td>1055</td><td>923</td><td>1029</td><td>932</td><td>938</td><td>1071</td><td>1135</td><td>1212</td><td>1063</td><td>1111</td></tr>\n",
              "</tbody>\n",
              "</table>\n"
            ]
          },
          "metadata": {
            "tags": []
          }
        }
      ]
    },
    {
      "cell_type": "code",
      "metadata": {
        "id": "CNuVlU1v28Kv",
        "colab_type": "code",
        "outputId": "724cff97-aa19-4e9a-a71d-a020e9cd3b35",
        "colab": {
          "base_uri": "https://localhost:8080/",
          "height": 464
        }
      },
      "source": [
        "df_obitos_normalizado <- read.csv('df_obitos_normalizado.csv', row.names = 1, sep = ';')\n",
        "df_obitos_normalizado"
      ],
      "execution_count": 6,
      "outputs": [
        {
          "output_type": "display_data",
          "data": {
            "text/plain": [
              "     Janeiro   Fevereiro Março     Abril     Maio      Junho     Julho    \n",
              "2000 0.3516897 0.3194034 0.3372762 0.3159442 0.3009542 0.2998011 0.3026838\n",
              "2001 0.3888900 0.3525026 0.3928698 0.3746761 0.3473856 0.3644422 0.3525026\n",
              "2002 0.3646029 0.3584327 0.3791871 0.3477751 0.3488970 0.3158022 0.3382393\n",
              "2003 0.3781438 0.3393882 0.3870022 0.3698391 0.3449247 0.3377273 0.3288689\n",
              "2004 0.3903527 0.3531763 0.3816053 0.3777784 0.3597368 0.3438822 0.3143597\n",
              "2005 0.4056153 0.3570063 0.3807707 0.3672682 0.3861717 0.3440439 0.3699687\n",
              "2006 0.4222379 0.3656548 0.4286436 0.3651210 0.3629858 0.3346943 0.3992844\n",
              "2007 0.4148573 0.3557427 0.4174963 0.3810775 0.4016621 0.3763273 0.3636599\n",
              "2008 0.4265596 0.4296922 0.4302143 0.4004544 0.3733049 0.3727828 0.3952333\n",
              "2009 0.4262597 0.3813087 0.4195429 0.4004258 0.4071426 0.3689084 0.3838921\n",
              "2010 0.4322299 0.3713597 0.4097233 0.3856821 0.4138154 0.3590833 0.3810785\n",
              "2011 0.4138867 0.3834911 0.4280713 0.4265515 0.4189526 0.3824779 0.4078076\n",
              "2012 0.4401672 0.4577338 0.4210950 0.4271178 0.4020227 0.3849581 0.4215969\n",
              "2013 0.4566421 0.4357500 0.4646010 0.4243091 0.4432114 0.4108784 0.3964529\n",
              "2014 0.4576646 0.4334992 0.4714735 0.4423763 0.4068678 0.3955248 0.3713593\n",
              "2015 0.5121040 0.4167265 0.4631925 0.4573231 0.4397149 0.4240632 0.4162374\n",
              "2016 0.4566156 0.4493369 0.4507927 0.4459402 0.4498222 0.4265304 0.4488517\n",
              "2017 0.5099659 0.4656629 0.5080397 0.4444746 0.4955193 0.4488085 0.4516979\n",
              "     Agosto    Setembro  Outubro   Novembro  Dezembro \n",
              "2000 0.3199800 0.3067196 0.3753279 0.3199800 0.3580317\n",
              "2001 0.3741076 0.3735390 0.3513655 0.3468171 0.3803617\n",
              "2002 0.3657248 0.3556281 0.3932102 0.3702122 0.3960149\n",
              "2003 0.3587660 0.3814657 0.3814657 0.3726073 0.3720537\n",
              "2004 0.3635638 0.3673908 0.3657507 0.3739514 0.3914462\n",
              "2005 0.4228985 0.3786103 0.4374812 0.3802306 0.3877920\n",
              "2006 0.3800675 0.3672563 0.4003520 0.3752633 0.4099605\n",
              "2007 0.4079958 0.3837166 0.4043011 0.3657711 0.4079958\n",
              "2008 0.3967996 0.4108965 0.4108965 0.3910565 0.4323027\n",
              "2009 0.3864755 0.3885422 0.4030092 0.4334932 0.4443435\n",
              "2010 0.4035851 0.3928433 0.4378566 0.4061427 0.4393911\n",
              "2011 0.4230054 0.4148999 0.4148999 0.4052746 0.4716383\n",
              "2012 0.4120608 0.4456881 0.4476957 0.4406691 0.4793155\n",
              "2013 0.4253039 0.4486832 0.4506729 0.4168476 0.4660933\n",
              "2014 0.4621032 0.4522397 0.4438558 0.4512534 0.4655554\n",
              "2015 0.4475408 0.4411823 0.4842244 0.4504755 0.5145496\n",
              "2016 0.4415730 0.4668058 0.5080516 0.4930090 0.5104778\n",
              "2017 0.5157446 0.5465641 0.5836437 0.5118922 0.5350068"
            ],
            "text/latex": "A data.frame: 18 × 12\n\\begin{tabular}{r|llllllllllll}\n  & Janeiro & Fevereiro & Março & Abril & Maio & Junho & Julho & Agosto & Setembro & Outubro & Novembro & Dezembro\\\\\n  & <dbl> & <dbl> & <dbl> & <dbl> & <dbl> & <dbl> & <dbl> & <dbl> & <dbl> & <dbl> & <dbl> & <dbl>\\\\\n\\hline\n\t2000 & 0.3516897 & 0.3194034 & 0.3372762 & 0.3159442 & 0.3009542 & 0.2998011 & 0.3026838 & 0.3199800 & 0.3067196 & 0.3753279 & 0.3199800 & 0.3580317\\\\\n\t2001 & 0.3888900 & 0.3525026 & 0.3928698 & 0.3746761 & 0.3473856 & 0.3644422 & 0.3525026 & 0.3741076 & 0.3735390 & 0.3513655 & 0.3468171 & 0.3803617\\\\\n\t2002 & 0.3646029 & 0.3584327 & 0.3791871 & 0.3477751 & 0.3488970 & 0.3158022 & 0.3382393 & 0.3657248 & 0.3556281 & 0.3932102 & 0.3702122 & 0.3960149\\\\\n\t2003 & 0.3781438 & 0.3393882 & 0.3870022 & 0.3698391 & 0.3449247 & 0.3377273 & 0.3288689 & 0.3587660 & 0.3814657 & 0.3814657 & 0.3726073 & 0.3720537\\\\\n\t2004 & 0.3903527 & 0.3531763 & 0.3816053 & 0.3777784 & 0.3597368 & 0.3438822 & 0.3143597 & 0.3635638 & 0.3673908 & 0.3657507 & 0.3739514 & 0.3914462\\\\\n\t2005 & 0.4056153 & 0.3570063 & 0.3807707 & 0.3672682 & 0.3861717 & 0.3440439 & 0.3699687 & 0.4228985 & 0.3786103 & 0.4374812 & 0.3802306 & 0.3877920\\\\\n\t2006 & 0.4222379 & 0.3656548 & 0.4286436 & 0.3651210 & 0.3629858 & 0.3346943 & 0.3992844 & 0.3800675 & 0.3672563 & 0.4003520 & 0.3752633 & 0.4099605\\\\\n\t2007 & 0.4148573 & 0.3557427 & 0.4174963 & 0.3810775 & 0.4016621 & 0.3763273 & 0.3636599 & 0.4079958 & 0.3837166 & 0.4043011 & 0.3657711 & 0.4079958\\\\\n\t2008 & 0.4265596 & 0.4296922 & 0.4302143 & 0.4004544 & 0.3733049 & 0.3727828 & 0.3952333 & 0.3967996 & 0.4108965 & 0.4108965 & 0.3910565 & 0.4323027\\\\\n\t2009 & 0.4262597 & 0.3813087 & 0.4195429 & 0.4004258 & 0.4071426 & 0.3689084 & 0.3838921 & 0.3864755 & 0.3885422 & 0.4030092 & 0.4334932 & 0.4443435\\\\\n\t2010 & 0.4322299 & 0.3713597 & 0.4097233 & 0.3856821 & 0.4138154 & 0.3590833 & 0.3810785 & 0.4035851 & 0.3928433 & 0.4378566 & 0.4061427 & 0.4393911\\\\\n\t2011 & 0.4138867 & 0.3834911 & 0.4280713 & 0.4265515 & 0.4189526 & 0.3824779 & 0.4078076 & 0.4230054 & 0.4148999 & 0.4148999 & 0.4052746 & 0.4716383\\\\\n\t2012 & 0.4401672 & 0.4577338 & 0.4210950 & 0.4271178 & 0.4020227 & 0.3849581 & 0.4215969 & 0.4120608 & 0.4456881 & 0.4476957 & 0.4406691 & 0.4793155\\\\\n\t2013 & 0.4566421 & 0.4357500 & 0.4646010 & 0.4243091 & 0.4432114 & 0.4108784 & 0.3964529 & 0.4253039 & 0.4486832 & 0.4506729 & 0.4168476 & 0.4660933\\\\\n\t2014 & 0.4576646 & 0.4334992 & 0.4714735 & 0.4423763 & 0.4068678 & 0.3955248 & 0.3713593 & 0.4621032 & 0.4522397 & 0.4438558 & 0.4512534 & 0.4655554\\\\\n\t2015 & 0.5121040 & 0.4167265 & 0.4631925 & 0.4573231 & 0.4397149 & 0.4240632 & 0.4162374 & 0.4475408 & 0.4411823 & 0.4842244 & 0.4504755 & 0.5145496\\\\\n\t2016 & 0.4566156 & 0.4493369 & 0.4507927 & 0.4459402 & 0.4498222 & 0.4265304 & 0.4488517 & 0.4415730 & 0.4668058 & 0.5080516 & 0.4930090 & 0.5104778\\\\\n\t2017 & 0.5099659 & 0.4656629 & 0.5080397 & 0.4444746 & 0.4955193 & 0.4488085 & 0.4516979 & 0.5157446 & 0.5465641 & 0.5836437 & 0.5118922 & 0.5350068\\\\\n\\end{tabular}\n",
            "text/markdown": "\nA data.frame: 18 × 12\n\n| <!--/--> | Janeiro &lt;dbl&gt; | Fevereiro &lt;dbl&gt; | Março &lt;dbl&gt; | Abril &lt;dbl&gt; | Maio &lt;dbl&gt; | Junho &lt;dbl&gt; | Julho &lt;dbl&gt; | Agosto &lt;dbl&gt; | Setembro &lt;dbl&gt; | Outubro &lt;dbl&gt; | Novembro &lt;dbl&gt; | Dezembro &lt;dbl&gt; |\n|---|---|---|---|---|---|---|---|---|---|---|---|---|\n| 2000 | 0.3516897 | 0.3194034 | 0.3372762 | 0.3159442 | 0.3009542 | 0.2998011 | 0.3026838 | 0.3199800 | 0.3067196 | 0.3753279 | 0.3199800 | 0.3580317 |\n| 2001 | 0.3888900 | 0.3525026 | 0.3928698 | 0.3746761 | 0.3473856 | 0.3644422 | 0.3525026 | 0.3741076 | 0.3735390 | 0.3513655 | 0.3468171 | 0.3803617 |\n| 2002 | 0.3646029 | 0.3584327 | 0.3791871 | 0.3477751 | 0.3488970 | 0.3158022 | 0.3382393 | 0.3657248 | 0.3556281 | 0.3932102 | 0.3702122 | 0.3960149 |\n| 2003 | 0.3781438 | 0.3393882 | 0.3870022 | 0.3698391 | 0.3449247 | 0.3377273 | 0.3288689 | 0.3587660 | 0.3814657 | 0.3814657 | 0.3726073 | 0.3720537 |\n| 2004 | 0.3903527 | 0.3531763 | 0.3816053 | 0.3777784 | 0.3597368 | 0.3438822 | 0.3143597 | 0.3635638 | 0.3673908 | 0.3657507 | 0.3739514 | 0.3914462 |\n| 2005 | 0.4056153 | 0.3570063 | 0.3807707 | 0.3672682 | 0.3861717 | 0.3440439 | 0.3699687 | 0.4228985 | 0.3786103 | 0.4374812 | 0.3802306 | 0.3877920 |\n| 2006 | 0.4222379 | 0.3656548 | 0.4286436 | 0.3651210 | 0.3629858 | 0.3346943 | 0.3992844 | 0.3800675 | 0.3672563 | 0.4003520 | 0.3752633 | 0.4099605 |\n| 2007 | 0.4148573 | 0.3557427 | 0.4174963 | 0.3810775 | 0.4016621 | 0.3763273 | 0.3636599 | 0.4079958 | 0.3837166 | 0.4043011 | 0.3657711 | 0.4079958 |\n| 2008 | 0.4265596 | 0.4296922 | 0.4302143 | 0.4004544 | 0.3733049 | 0.3727828 | 0.3952333 | 0.3967996 | 0.4108965 | 0.4108965 | 0.3910565 | 0.4323027 |\n| 2009 | 0.4262597 | 0.3813087 | 0.4195429 | 0.4004258 | 0.4071426 | 0.3689084 | 0.3838921 | 0.3864755 | 0.3885422 | 0.4030092 | 0.4334932 | 0.4443435 |\n| 2010 | 0.4322299 | 0.3713597 | 0.4097233 | 0.3856821 | 0.4138154 | 0.3590833 | 0.3810785 | 0.4035851 | 0.3928433 | 0.4378566 | 0.4061427 | 0.4393911 |\n| 2011 | 0.4138867 | 0.3834911 | 0.4280713 | 0.4265515 | 0.4189526 | 0.3824779 | 0.4078076 | 0.4230054 | 0.4148999 | 0.4148999 | 0.4052746 | 0.4716383 |\n| 2012 | 0.4401672 | 0.4577338 | 0.4210950 | 0.4271178 | 0.4020227 | 0.3849581 | 0.4215969 | 0.4120608 | 0.4456881 | 0.4476957 | 0.4406691 | 0.4793155 |\n| 2013 | 0.4566421 | 0.4357500 | 0.4646010 | 0.4243091 | 0.4432114 | 0.4108784 | 0.3964529 | 0.4253039 | 0.4486832 | 0.4506729 | 0.4168476 | 0.4660933 |\n| 2014 | 0.4576646 | 0.4334992 | 0.4714735 | 0.4423763 | 0.4068678 | 0.3955248 | 0.3713593 | 0.4621032 | 0.4522397 | 0.4438558 | 0.4512534 | 0.4655554 |\n| 2015 | 0.5121040 | 0.4167265 | 0.4631925 | 0.4573231 | 0.4397149 | 0.4240632 | 0.4162374 | 0.4475408 | 0.4411823 | 0.4842244 | 0.4504755 | 0.5145496 |\n| 2016 | 0.4566156 | 0.4493369 | 0.4507927 | 0.4459402 | 0.4498222 | 0.4265304 | 0.4488517 | 0.4415730 | 0.4668058 | 0.5080516 | 0.4930090 | 0.5104778 |\n| 2017 | 0.5099659 | 0.4656629 | 0.5080397 | 0.4444746 | 0.4955193 | 0.4488085 | 0.4516979 | 0.5157446 | 0.5465641 | 0.5836437 | 0.5118922 | 0.5350068 |\n\n",
            "text/html": [
              "<table>\n",
              "<caption>A data.frame: 18 × 12</caption>\n",
              "<thead>\n",
              "\t<tr><th></th><th scope=col>Janeiro</th><th scope=col>Fevereiro</th><th scope=col>Março</th><th scope=col>Abril</th><th scope=col>Maio</th><th scope=col>Junho</th><th scope=col>Julho</th><th scope=col>Agosto</th><th scope=col>Setembro</th><th scope=col>Outubro</th><th scope=col>Novembro</th><th scope=col>Dezembro</th></tr>\n",
              "\t<tr><th></th><th scope=col>&lt;dbl&gt;</th><th scope=col>&lt;dbl&gt;</th><th scope=col>&lt;dbl&gt;</th><th scope=col>&lt;dbl&gt;</th><th scope=col>&lt;dbl&gt;</th><th scope=col>&lt;dbl&gt;</th><th scope=col>&lt;dbl&gt;</th><th scope=col>&lt;dbl&gt;</th><th scope=col>&lt;dbl&gt;</th><th scope=col>&lt;dbl&gt;</th><th scope=col>&lt;dbl&gt;</th><th scope=col>&lt;dbl&gt;</th></tr>\n",
              "</thead>\n",
              "<tbody>\n",
              "\t<tr><th scope=row>2000</th><td>0.3516897</td><td>0.3194034</td><td>0.3372762</td><td>0.3159442</td><td>0.3009542</td><td>0.2998011</td><td>0.3026838</td><td>0.3199800</td><td>0.3067196</td><td>0.3753279</td><td>0.3199800</td><td>0.3580317</td></tr>\n",
              "\t<tr><th scope=row>2001</th><td>0.3888900</td><td>0.3525026</td><td>0.3928698</td><td>0.3746761</td><td>0.3473856</td><td>0.3644422</td><td>0.3525026</td><td>0.3741076</td><td>0.3735390</td><td>0.3513655</td><td>0.3468171</td><td>0.3803617</td></tr>\n",
              "\t<tr><th scope=row>2002</th><td>0.3646029</td><td>0.3584327</td><td>0.3791871</td><td>0.3477751</td><td>0.3488970</td><td>0.3158022</td><td>0.3382393</td><td>0.3657248</td><td>0.3556281</td><td>0.3932102</td><td>0.3702122</td><td>0.3960149</td></tr>\n",
              "\t<tr><th scope=row>2003</th><td>0.3781438</td><td>0.3393882</td><td>0.3870022</td><td>0.3698391</td><td>0.3449247</td><td>0.3377273</td><td>0.3288689</td><td>0.3587660</td><td>0.3814657</td><td>0.3814657</td><td>0.3726073</td><td>0.3720537</td></tr>\n",
              "\t<tr><th scope=row>2004</th><td>0.3903527</td><td>0.3531763</td><td>0.3816053</td><td>0.3777784</td><td>0.3597368</td><td>0.3438822</td><td>0.3143597</td><td>0.3635638</td><td>0.3673908</td><td>0.3657507</td><td>0.3739514</td><td>0.3914462</td></tr>\n",
              "\t<tr><th scope=row>2005</th><td>0.4056153</td><td>0.3570063</td><td>0.3807707</td><td>0.3672682</td><td>0.3861717</td><td>0.3440439</td><td>0.3699687</td><td>0.4228985</td><td>0.3786103</td><td>0.4374812</td><td>0.3802306</td><td>0.3877920</td></tr>\n",
              "\t<tr><th scope=row>2006</th><td>0.4222379</td><td>0.3656548</td><td>0.4286436</td><td>0.3651210</td><td>0.3629858</td><td>0.3346943</td><td>0.3992844</td><td>0.3800675</td><td>0.3672563</td><td>0.4003520</td><td>0.3752633</td><td>0.4099605</td></tr>\n",
              "\t<tr><th scope=row>2007</th><td>0.4148573</td><td>0.3557427</td><td>0.4174963</td><td>0.3810775</td><td>0.4016621</td><td>0.3763273</td><td>0.3636599</td><td>0.4079958</td><td>0.3837166</td><td>0.4043011</td><td>0.3657711</td><td>0.4079958</td></tr>\n",
              "\t<tr><th scope=row>2008</th><td>0.4265596</td><td>0.4296922</td><td>0.4302143</td><td>0.4004544</td><td>0.3733049</td><td>0.3727828</td><td>0.3952333</td><td>0.3967996</td><td>0.4108965</td><td>0.4108965</td><td>0.3910565</td><td>0.4323027</td></tr>\n",
              "\t<tr><th scope=row>2009</th><td>0.4262597</td><td>0.3813087</td><td>0.4195429</td><td>0.4004258</td><td>0.4071426</td><td>0.3689084</td><td>0.3838921</td><td>0.3864755</td><td>0.3885422</td><td>0.4030092</td><td>0.4334932</td><td>0.4443435</td></tr>\n",
              "\t<tr><th scope=row>2010</th><td>0.4322299</td><td>0.3713597</td><td>0.4097233</td><td>0.3856821</td><td>0.4138154</td><td>0.3590833</td><td>0.3810785</td><td>0.4035851</td><td>0.3928433</td><td>0.4378566</td><td>0.4061427</td><td>0.4393911</td></tr>\n",
              "\t<tr><th scope=row>2011</th><td>0.4138867</td><td>0.3834911</td><td>0.4280713</td><td>0.4265515</td><td>0.4189526</td><td>0.3824779</td><td>0.4078076</td><td>0.4230054</td><td>0.4148999</td><td>0.4148999</td><td>0.4052746</td><td>0.4716383</td></tr>\n",
              "\t<tr><th scope=row>2012</th><td>0.4401672</td><td>0.4577338</td><td>0.4210950</td><td>0.4271178</td><td>0.4020227</td><td>0.3849581</td><td>0.4215969</td><td>0.4120608</td><td>0.4456881</td><td>0.4476957</td><td>0.4406691</td><td>0.4793155</td></tr>\n",
              "\t<tr><th scope=row>2013</th><td>0.4566421</td><td>0.4357500</td><td>0.4646010</td><td>0.4243091</td><td>0.4432114</td><td>0.4108784</td><td>0.3964529</td><td>0.4253039</td><td>0.4486832</td><td>0.4506729</td><td>0.4168476</td><td>0.4660933</td></tr>\n",
              "\t<tr><th scope=row>2014</th><td>0.4576646</td><td>0.4334992</td><td>0.4714735</td><td>0.4423763</td><td>0.4068678</td><td>0.3955248</td><td>0.3713593</td><td>0.4621032</td><td>0.4522397</td><td>0.4438558</td><td>0.4512534</td><td>0.4655554</td></tr>\n",
              "\t<tr><th scope=row>2015</th><td>0.5121040</td><td>0.4167265</td><td>0.4631925</td><td>0.4573231</td><td>0.4397149</td><td>0.4240632</td><td>0.4162374</td><td>0.4475408</td><td>0.4411823</td><td>0.4842244</td><td>0.4504755</td><td>0.5145496</td></tr>\n",
              "\t<tr><th scope=row>2016</th><td>0.4566156</td><td>0.4493369</td><td>0.4507927</td><td>0.4459402</td><td>0.4498222</td><td>0.4265304</td><td>0.4488517</td><td>0.4415730</td><td>0.4668058</td><td>0.5080516</td><td>0.4930090</td><td>0.5104778</td></tr>\n",
              "\t<tr><th scope=row>2017</th><td>0.5099659</td><td>0.4656629</td><td>0.5080397</td><td>0.4444746</td><td>0.4955193</td><td>0.4488085</td><td>0.4516979</td><td>0.5157446</td><td>0.5465641</td><td>0.5836437</td><td>0.5118922</td><td>0.5350068</td></tr>\n",
              "</tbody>\n",
              "</table>\n"
            ]
          },
          "metadata": {
            "tags": []
          }
        }
      ]
    },
    {
      "cell_type": "markdown",
      "metadata": {
        "id": "Apmc3fP23pkO",
        "colab_type": "text"
      },
      "source": [
        "# Teste de normalidade dos dados (Shapiro-Wilk)"
      ]
    },
    {
      "cell_type": "code",
      "metadata": {
        "id": "GRQgBj4k28Kn",
        "colab_type": "code",
        "outputId": "47da6105-9bf1-4d6e-982f-3987875096ac",
        "colab": {
          "base_uri": "https://localhost:8080/",
          "height": 336
        }
      },
      "source": [
        "lshap <- lapply(df_obitos, shapiro.test)\n",
        "lres <- sapply(lshap, '[', c(\"statistic\",\"p.value\"))\n",
        "t(lres)\n",
        "\n",
        "#shapiro.test(df_obitos$Outubro)"
      ],
      "execution_count": 7,
      "outputs": [
        {
          "output_type": "display_data",
          "data": {
            "text/plain": [
              "          statistic p.value  \n",
              "Janeiro   0.9694345 0.7869881\n",
              "Fevereiro 0.9405158 0.2957265\n",
              "Março     0.9659727 0.7194684\n",
              "Abril     0.9493559 0.4150026\n",
              "Maio      0.9843657 0.9837375\n",
              "Junho     0.9740162 0.8688711\n",
              "Julho     0.9674647 0.7488934\n",
              "Agosto    0.977213  0.9167986\n",
              "Setembro  0.9598514 0.5987638\n",
              "Outubro   0.9380614 0.2683993\n",
              "Novembro  0.9667963 0.7357517\n",
              "Dezembro  0.9503571 0.4306458"
            ],
            "text/latex": "A matrix: 12 × 2\n\\begin{tabular}{r|ll}\n  & statistic & p.value\\\\\n  & <dbl> & <dbl> & <dbl> & <dbl> & <dbl> & <dbl> & <dbl> & <dbl> & <dbl> & <dbl> & <dbl> & <dbl> & <dbl> & <dbl> & <dbl> & <dbl> & <dbl> & <dbl> & <dbl> & <dbl> & <dbl> & <dbl> & <dbl> & <dbl>\\\\\n\\hline\n\tJaneiro & 0.9694345 & 0.7869881\\\\\n\tFevereiro & 0.9405158 & 0.2957265\\\\\n\tMarço & 0.9659727 & 0.7194684\\\\\n\tAbril & 0.9493559 & 0.4150026\\\\\n\tMaio & 0.9843657 & 0.9837375\\\\\n\tJunho & 0.9740162 & 0.8688711\\\\\n\tJulho & 0.9674647 & 0.7488934\\\\\n\tAgosto & 0.977213 & 0.9167986\\\\\n\tSetembro & 0.9598514 & 0.5987638\\\\\n\tOutubro & 0.9380614 & 0.2683993\\\\\n\tNovembro & 0.9667963 & 0.7357517\\\\\n\tDezembro & 0.9503571 & 0.4306458\\\\\n\\end{tabular}\n",
            "text/markdown": "\nA matrix: 12 × 2\n\n| <!--/--> | statistic &lt;dbl&gt; | p.value &lt;dbl&gt; | statistic &lt;dbl&gt; | p.value &lt;dbl&gt; | statistic &lt;dbl&gt; | p.value &lt;dbl&gt; | statistic &lt;dbl&gt; | p.value &lt;dbl&gt; | statistic &lt;dbl&gt; | p.value &lt;dbl&gt; | statistic ⋯ | p.value &lt;dbl&gt; | statistic &lt;dbl&gt; | p.value &lt;dbl&gt; | statistic &lt;dbl&gt; | p.value &lt;dbl&gt; | statistic &lt;dbl&gt; | p.value &lt;dbl&gt; | statistic &lt;dbl&gt; | p.value &lt;dbl&gt; | statistic &lt;dbl&gt; |\n|---|---|---|\n| Janeiro | 0.9694345 | 0.7869881 |\n| Fevereiro | 0.9405158 | 0.2957265 |\n| Março | 0.9659727 | 0.7194684 |\n| Abril | 0.9493559 | 0.4150026 |\n| Maio | 0.9843657 | 0.9837375 |\n| Junho | 0.9740162 | 0.8688711 |\n| Julho | 0.9674647 | 0.7488934 |\n| Agosto | 0.977213 | 0.9167986 |\n| Setembro | 0.9598514 | 0.5987638 |\n| Outubro | 0.9380614 | 0.2683993 |\n| Novembro | 0.9667963 | 0.7357517 |\n| Dezembro | 0.9503571 | 0.4306458 |\n\n",
            "text/html": [
              "<table>\n",
              "<caption>A matrix: 12 × 2</caption>\n",
              "<thead>\n",
              "\t<tr><th></th><th scope=col>statistic</th><th scope=col>p.value</th></tr>\n",
              "\t<tr><th></th><th scope=col>&lt;dbl&gt;</th><th scope=col>&lt;dbl&gt;</th><th scope=col>&lt;dbl&gt;</th><th scope=col>&lt;dbl&gt;</th><th scope=col>&lt;dbl&gt;</th><th scope=col>&lt;dbl&gt;</th><th scope=col>&lt;dbl&gt;</th><th scope=col>&lt;dbl&gt;</th><th scope=col>&lt;dbl&gt;</th><th scope=col>&lt;dbl&gt;</th><th scope=col>⋯</th><th scope=col>&lt;dbl&gt;</th><th scope=col>&lt;dbl&gt;</th><th scope=col>&lt;dbl&gt;</th><th scope=col>&lt;dbl&gt;</th><th scope=col>&lt;dbl&gt;</th><th scope=col>&lt;dbl&gt;</th><th scope=col>&lt;dbl&gt;</th><th scope=col>&lt;dbl&gt;</th><th scope=col>&lt;dbl&gt;</th><th scope=col>&lt;dbl&gt;</th></tr>\n",
              "</thead>\n",
              "<tbody>\n",
              "\t<tr><th scope=row>Janeiro</th><td>0.9694345</td><td>0.7869881</td></tr>\n",
              "\t<tr><th scope=row>Fevereiro</th><td>0.9405158</td><td>0.2957265</td></tr>\n",
              "\t<tr><th scope=row>Março</th><td>0.9659727</td><td>0.7194684</td></tr>\n",
              "\t<tr><th scope=row>Abril</th><td>0.9493559</td><td>0.4150026</td></tr>\n",
              "\t<tr><th scope=row>Maio</th><td>0.9843657</td><td>0.9837375</td></tr>\n",
              "\t<tr><th scope=row>Junho</th><td>0.9740162</td><td>0.8688711</td></tr>\n",
              "\t<tr><th scope=row>Julho</th><td>0.9674647</td><td>0.7488934</td></tr>\n",
              "\t<tr><th scope=row>Agosto</th><td>0.977213</td><td>0.9167986</td></tr>\n",
              "\t<tr><th scope=row>Setembro</th><td>0.9598514</td><td>0.5987638</td></tr>\n",
              "\t<tr><th scope=row>Outubro</th><td>0.9380614</td><td>0.2683993</td></tr>\n",
              "\t<tr><th scope=row>Novembro</th><td>0.9667963</td><td>0.7357517</td></tr>\n",
              "\t<tr><th scope=row>Dezembro</th><td>0.9503571</td><td>0.4306458</td></tr>\n",
              "</tbody>\n",
              "</table>\n"
            ]
          },
          "metadata": {
            "tags": []
          }
        }
      ]
    },
    {
      "cell_type": "markdown",
      "metadata": {
        "id": "FY-R43Ig28Kt",
        "colab_type": "text"
      },
      "source": [
        "**Não existem evidências estatísticas  que rejeitem H0 que as amostras de dados dos meses do ano são oriundos de populações com distribuições normais (p = 0.05)**"
      ]
    },
    {
      "cell_type": "code",
      "metadata": {
        "id": "NZtVfwAI68_N",
        "colab_type": "code",
        "outputId": "b0e7495b-fcf7-4ae8-e712-016a88594023",
        "colab": {
          "base_uri": "https://localhost:8080/",
          "height": 336
        }
      },
      "source": [
        "lshap <- lapply(df_obitos_normalizado, shapiro.test)\n",
        "lres <- sapply(lshap, '[', c(\"statistic\",\"p.value\"))\n",
        "t(lres)"
      ],
      "execution_count": 8,
      "outputs": [
        {
          "output_type": "display_data",
          "data": {
            "text/plain": [
              "          statistic p.value   \n",
              "Janeiro   0.9592751 0.5876949 \n",
              "Fevereiro 0.9162369 0.1108836 \n",
              "Março     0.9777687 0.9241093 \n",
              "Abril     0.9549908 0.5085391 \n",
              "Maio      0.981924  0.967658  \n",
              "Junho     0.985331  0.9882579 \n",
              "Julho     0.9781284 0.9286654 \n",
              "Agosto    0.9761451 0.901852  \n",
              "Setembro  0.9388938 0.2774017 \n",
              "Outubro   0.9063025 0.07406334\n",
              "Novembro  0.9598918 0.5995421 \n",
              "Dezembro  0.9559421 0.5255794 "
            ],
            "text/latex": "A matrix: 12 × 2\n\\begin{tabular}{r|ll}\n  & statistic & p.value\\\\\n  & <dbl> & <dbl> & <dbl> & <dbl> & <dbl> & <dbl> & <dbl> & <dbl> & <dbl> & <dbl> & <dbl> & <dbl> & <dbl> & <dbl> & <dbl> & <dbl> & <dbl> & <dbl> & <dbl> & <dbl> & <dbl> & <dbl> & <dbl> & <dbl>\\\\\n\\hline\n\tJaneiro & 0.9592751 & 0.5876949\\\\\n\tFevereiro & 0.9162369 & 0.1108836\\\\\n\tMarço & 0.9777687 & 0.9241093\\\\\n\tAbril & 0.9549908 & 0.5085391\\\\\n\tMaio & 0.981924 & 0.967658\\\\\n\tJunho & 0.985331 & 0.9882579\\\\\n\tJulho & 0.9781284 & 0.9286654\\\\\n\tAgosto & 0.9761451 & 0.901852\\\\\n\tSetembro & 0.9388938 & 0.2774017\\\\\n\tOutubro & 0.9063025 & 0.07406334\\\\\n\tNovembro & 0.9598918 & 0.5995421\\\\\n\tDezembro & 0.9559421 & 0.5255794\\\\\n\\end{tabular}\n",
            "text/markdown": "\nA matrix: 12 × 2\n\n| <!--/--> | statistic &lt;dbl&gt; | p.value &lt;dbl&gt; | statistic &lt;dbl&gt; | p.value &lt;dbl&gt; | statistic &lt;dbl&gt; | p.value &lt;dbl&gt; | statistic &lt;dbl&gt; | p.value &lt;dbl&gt; | statistic &lt;dbl&gt; | p.value &lt;dbl&gt; | statistic ⋯ | p.value &lt;dbl&gt; | statistic &lt;dbl&gt; | p.value &lt;dbl&gt; | statistic &lt;dbl&gt; | p.value &lt;dbl&gt; | statistic &lt;dbl&gt; | p.value &lt;dbl&gt; | statistic &lt;dbl&gt; | p.value &lt;dbl&gt; | statistic &lt;dbl&gt; |\n|---|---|---|\n| Janeiro | 0.9592751 | 0.5876949 |\n| Fevereiro | 0.9162369 | 0.1108836 |\n| Março | 0.9777687 | 0.9241093 |\n| Abril | 0.9549908 | 0.5085391 |\n| Maio | 0.981924 | 0.967658 |\n| Junho | 0.985331 | 0.9882579 |\n| Julho | 0.9781284 | 0.9286654 |\n| Agosto | 0.9761451 | 0.901852 |\n| Setembro | 0.9388938 | 0.2774017 |\n| Outubro | 0.9063025 | 0.07406334 |\n| Novembro | 0.9598918 | 0.5995421 |\n| Dezembro | 0.9559421 | 0.5255794 |\n\n",
            "text/html": [
              "<table>\n",
              "<caption>A matrix: 12 × 2</caption>\n",
              "<thead>\n",
              "\t<tr><th></th><th scope=col>statistic</th><th scope=col>p.value</th></tr>\n",
              "\t<tr><th></th><th scope=col>&lt;dbl&gt;</th><th scope=col>&lt;dbl&gt;</th><th scope=col>&lt;dbl&gt;</th><th scope=col>&lt;dbl&gt;</th><th scope=col>&lt;dbl&gt;</th><th scope=col>&lt;dbl&gt;</th><th scope=col>&lt;dbl&gt;</th><th scope=col>&lt;dbl&gt;</th><th scope=col>&lt;dbl&gt;</th><th scope=col>&lt;dbl&gt;</th><th scope=col>⋯</th><th scope=col>&lt;dbl&gt;</th><th scope=col>&lt;dbl&gt;</th><th scope=col>&lt;dbl&gt;</th><th scope=col>&lt;dbl&gt;</th><th scope=col>&lt;dbl&gt;</th><th scope=col>&lt;dbl&gt;</th><th scope=col>&lt;dbl&gt;</th><th scope=col>&lt;dbl&gt;</th><th scope=col>&lt;dbl&gt;</th><th scope=col>&lt;dbl&gt;</th></tr>\n",
              "</thead>\n",
              "<tbody>\n",
              "\t<tr><th scope=row>Janeiro</th><td>0.9592751</td><td>0.5876949</td></tr>\n",
              "\t<tr><th scope=row>Fevereiro</th><td>0.9162369</td><td>0.1108836</td></tr>\n",
              "\t<tr><th scope=row>Março</th><td>0.9777687</td><td>0.9241093</td></tr>\n",
              "\t<tr><th scope=row>Abril</th><td>0.9549908</td><td>0.5085391</td></tr>\n",
              "\t<tr><th scope=row>Maio</th><td>0.981924</td><td>0.967658</td></tr>\n",
              "\t<tr><th scope=row>Junho</th><td>0.985331</td><td>0.9882579</td></tr>\n",
              "\t<tr><th scope=row>Julho</th><td>0.9781284</td><td>0.9286654</td></tr>\n",
              "\t<tr><th scope=row>Agosto</th><td>0.9761451</td><td>0.901852</td></tr>\n",
              "\t<tr><th scope=row>Setembro</th><td>0.9388938</td><td>0.2774017</td></tr>\n",
              "\t<tr><th scope=row>Outubro</th><td>0.9063025</td><td>0.07406334</td></tr>\n",
              "\t<tr><th scope=row>Novembro</th><td>0.9598918</td><td>0.5995421</td></tr>\n",
              "\t<tr><th scope=row>Dezembro</th><td>0.9559421</td><td>0.5255794</td></tr>\n",
              "</tbody>\n",
              "</table>\n"
            ]
          },
          "metadata": {
            "tags": []
          }
        }
      ]
    },
    {
      "cell_type": "markdown",
      "metadata": {
        "id": "NjkpU40y28K5",
        "colab_type": "text"
      },
      "source": [
        "**Não existem evidências estatísticas  que rejeitem H0 que as amostras de dados dos meses do ano são oriundos de populações com distribuições normais (p = 0.05)**"
      ]
    },
    {
      "cell_type": "markdown",
      "metadata": {
        "id": "qISHeesjCkz8",
        "colab_type": "text"
      },
      "source": [
        "# Teste de variancias"
      ]
    },
    {
      "cell_type": "code",
      "metadata": {
        "id": "adQILVzJL1Fi",
        "colab_type": "code",
        "outputId": "a6b6e577-6fa7-45d2-f38f-1d3507e7229f",
        "colab": {
          "base_uri": "https://localhost:8080/",
          "height": 208
        }
      },
      "source": [
        "var.test(df_obitos$Janeiro, df_obitos$Junho)\n"
      ],
      "execution_count": 9,
      "outputs": [
        {
          "output_type": "display_data",
          "data": {
            "text/plain": [
              "\n",
              "\tF test to compare two variances\n",
              "\n",
              "data:  df_obitos$Janeiro and df_obitos$Junho\n",
              "F = 1.2563, num df = 17, denom df = 17, p-value = 0.6434\n",
              "alternative hypothesis: true ratio of variances is not equal to 1\n",
              "95 percent confidence interval:\n",
              " 0.4699361 3.3584151\n",
              "sample estimates:\n",
              "ratio of variances \n",
              "           1.25628 \n"
            ]
          },
          "metadata": {
            "tags": []
          }
        }
      ]
    },
    {
      "cell_type": "code",
      "metadata": {
        "id": "RjnM2AtpfsRc",
        "colab_type": "code",
        "colab": {
          "base_uri": "https://localhost:8080/",
          "height": 314
        },
        "outputId": "4978490b-46c3-41b5-b304-6cc2233d13ed"
      },
      "source": [
        "library(plyr)\n",
        "\n",
        "combos <- combn(ncol(df_obitos), 2)\n",
        "\n",
        "out <- adply(combos, 2, function(x) {\n",
        "  test <- var.test(df_obitos[, x[1]], df_obitos[, x[2]])\n",
        "\n",
        "  out <- data.frame(\"var1\" = colnames(df_obitos)[x[1]]\n",
        "                    , \"var2\" = colnames(df_obitos)[x[2]]\n",
        "                    #, \"t.value\" = sprintf(\"%.3f\", test$statistic)\n",
        "                    #,  \"df\"= test$parameter\n",
        "                    ,  \"p.value\" = sprintf(\"%.3f\", test$p.value)\n",
        "                    )\n",
        "  return(out)\n",
        "\n",
        "})\n",
        "var_test_matrix = dcast(out, var1 ~ var2, value.var = \"p.value\")\n",
        "var_test_matrix"
      ],
      "execution_count": 27,
      "outputs": [
        {
          "output_type": "display_data",
          "data": {
            "text/plain": [
              "   var1      Fevereiro Março Abril Maio  Junho Julho Agosto Setembro Outubro\n",
              "1  Janeiro   0.950     0.843 0.682 0.936 0.643 0.749 0.980  0.606    0.493  \n",
              "2  Fevereiro NA        0.892 0.728 0.887 0.689 0.797 0.970  0.563    0.455  \n",
              "3  Março     NA        NA    0.832 0.781 0.791 0.903 0.862  0.476    0.378  \n",
              "4  Abril     NA        NA    NA    0.625 0.957 0.928 0.700  0.356    0.275  \n",
              "5  Maio      NA        NA    NA    NA    0.588 0.690 0.917  0.663    0.544  \n",
              "6  Junho     NA        NA    NA    NA    NA    0.886 0.661  0.329    0.253  \n",
              "7  Julho     NA        NA    NA    NA    NA    NA    0.768  0.405    0.317  \n",
              "8  Agosto    NA        NA    NA    NA    NA    NA    NA     0.589    0.478  \n",
              "9  Setembro  NA        NA    NA    NA    NA    NA    NA     NA       0.864  \n",
              "10 Outubro   NA        NA    NA    NA    NA    NA    NA     NA       NA     \n",
              "11 Novembro  NA        NA    NA    NA    NA    NA    NA     NA       NA     \n",
              "   Novembro Dezembro\n",
              "1  0.741    0.559   \n",
              "2  0.695    0.518   \n",
              "3  0.598    0.435   \n",
              "4  0.460    0.322   \n",
              "5  0.802    0.614   \n",
              "6  0.429    0.297   \n",
              "7  0.517    0.367   \n",
              "8  0.723    0.543   \n",
              "9  0.853    0.945   \n",
              "10 0.722    0.919   \n",
              "11 NA       0.799   "
            ],
            "text/latex": "A data.frame: 11 × 12\n\\begin{tabular}{r|llllllllllll}\n var1 & Fevereiro & Março & Abril & Maio & Junho & Julho & Agosto & Setembro & Outubro & Novembro & Dezembro\\\\\n <fct> & <chr> & <chr> & <chr> & <chr> & <chr> & <chr> & <chr> & <chr> & <chr> & <chr> & <chr>\\\\\n\\hline\n\t Janeiro   & 0.950 & 0.843 & 0.682 & 0.936 & 0.643 & 0.749 & 0.980 & 0.606 & 0.493 & 0.741 & 0.559\\\\\n\t Fevereiro & NA    & 0.892 & 0.728 & 0.887 & 0.689 & 0.797 & 0.970 & 0.563 & 0.455 & 0.695 & 0.518\\\\\n\t Março     & NA    & NA    & 0.832 & 0.781 & 0.791 & 0.903 & 0.862 & 0.476 & 0.378 & 0.598 & 0.435\\\\\n\t Abril     & NA    & NA    & NA    & 0.625 & 0.957 & 0.928 & 0.700 & 0.356 & 0.275 & 0.460 & 0.322\\\\\n\t Maio      & NA    & NA    & NA    & NA    & 0.588 & 0.690 & 0.917 & 0.663 & 0.544 & 0.802 & 0.614\\\\\n\t Junho     & NA    & NA    & NA    & NA    & NA    & 0.886 & 0.661 & 0.329 & 0.253 & 0.429 & 0.297\\\\\n\t Julho     & NA    & NA    & NA    & NA    & NA    & NA    & 0.768 & 0.405 & 0.317 & 0.517 & 0.367\\\\\n\t Agosto    & NA    & NA    & NA    & NA    & NA    & NA    & NA    & 0.589 & 0.478 & 0.723 & 0.543\\\\\n\t Setembro  & NA    & NA    & NA    & NA    & NA    & NA    & NA    & NA    & 0.864 & 0.853 & 0.945\\\\\n\t Outubro   & NA    & NA    & NA    & NA    & NA    & NA    & NA    & NA    & NA    & 0.722 & 0.919\\\\\n\t Novembro  & NA    & NA    & NA    & NA    & NA    & NA    & NA    & NA    & NA    & NA    & 0.799\\\\\n\\end{tabular}\n",
            "text/markdown": "\nA data.frame: 11 × 12\n\n| var1 &lt;fct&gt; | Fevereiro &lt;chr&gt; | Março &lt;chr&gt; | Abril &lt;chr&gt; | Maio &lt;chr&gt; | Junho &lt;chr&gt; | Julho &lt;chr&gt; | Agosto &lt;chr&gt; | Setembro &lt;chr&gt; | Outubro &lt;chr&gt; | Novembro &lt;chr&gt; | Dezembro &lt;chr&gt; |\n|---|---|---|---|---|---|---|---|---|---|---|---|\n| Janeiro   | 0.950 | 0.843 | 0.682 | 0.936 | 0.643 | 0.749 | 0.980 | 0.606 | 0.493 | 0.741 | 0.559 |\n| Fevereiro | NA    | 0.892 | 0.728 | 0.887 | 0.689 | 0.797 | 0.970 | 0.563 | 0.455 | 0.695 | 0.518 |\n| Março     | NA    | NA    | 0.832 | 0.781 | 0.791 | 0.903 | 0.862 | 0.476 | 0.378 | 0.598 | 0.435 |\n| Abril     | NA    | NA    | NA    | 0.625 | 0.957 | 0.928 | 0.700 | 0.356 | 0.275 | 0.460 | 0.322 |\n| Maio      | NA    | NA    | NA    | NA    | 0.588 | 0.690 | 0.917 | 0.663 | 0.544 | 0.802 | 0.614 |\n| Junho     | NA    | NA    | NA    | NA    | NA    | 0.886 | 0.661 | 0.329 | 0.253 | 0.429 | 0.297 |\n| Julho     | NA    | NA    | NA    | NA    | NA    | NA    | 0.768 | 0.405 | 0.317 | 0.517 | 0.367 |\n| Agosto    | NA    | NA    | NA    | NA    | NA    | NA    | NA    | 0.589 | 0.478 | 0.723 | 0.543 |\n| Setembro  | NA    | NA    | NA    | NA    | NA    | NA    | NA    | NA    | 0.864 | 0.853 | 0.945 |\n| Outubro   | NA    | NA    | NA    | NA    | NA    | NA    | NA    | NA    | NA    | 0.722 | 0.919 |\n| Novembro  | NA    | NA    | NA    | NA    | NA    | NA    | NA    | NA    | NA    | NA    | 0.799 |\n\n",
            "text/html": [
              "<table>\n",
              "<caption>A data.frame: 11 × 12</caption>\n",
              "<thead>\n",
              "\t<tr><th scope=col>var1</th><th scope=col>Fevereiro</th><th scope=col>Março</th><th scope=col>Abril</th><th scope=col>Maio</th><th scope=col>Junho</th><th scope=col>Julho</th><th scope=col>Agosto</th><th scope=col>Setembro</th><th scope=col>Outubro</th><th scope=col>Novembro</th><th scope=col>Dezembro</th></tr>\n",
              "\t<tr><th scope=col>&lt;fct&gt;</th><th scope=col>&lt;chr&gt;</th><th scope=col>&lt;chr&gt;</th><th scope=col>&lt;chr&gt;</th><th scope=col>&lt;chr&gt;</th><th scope=col>&lt;chr&gt;</th><th scope=col>&lt;chr&gt;</th><th scope=col>&lt;chr&gt;</th><th scope=col>&lt;chr&gt;</th><th scope=col>&lt;chr&gt;</th><th scope=col>&lt;chr&gt;</th><th scope=col>&lt;chr&gt;</th></tr>\n",
              "</thead>\n",
              "<tbody>\n",
              "\t<tr><td>Janeiro  </td><td>0.950</td><td>0.843</td><td>0.682</td><td>0.936</td><td>0.643</td><td>0.749</td><td>0.980</td><td>0.606</td><td>0.493</td><td>0.741</td><td>0.559</td></tr>\n",
              "\t<tr><td>Fevereiro</td><td>NA   </td><td>0.892</td><td>0.728</td><td>0.887</td><td>0.689</td><td>0.797</td><td>0.970</td><td>0.563</td><td>0.455</td><td>0.695</td><td>0.518</td></tr>\n",
              "\t<tr><td>Março    </td><td>NA   </td><td>NA   </td><td>0.832</td><td>0.781</td><td>0.791</td><td>0.903</td><td>0.862</td><td>0.476</td><td>0.378</td><td>0.598</td><td>0.435</td></tr>\n",
              "\t<tr><td>Abril    </td><td>NA   </td><td>NA   </td><td>NA   </td><td>0.625</td><td>0.957</td><td>0.928</td><td>0.700</td><td>0.356</td><td>0.275</td><td>0.460</td><td>0.322</td></tr>\n",
              "\t<tr><td>Maio     </td><td>NA   </td><td>NA   </td><td>NA   </td><td>NA   </td><td>0.588</td><td>0.690</td><td>0.917</td><td>0.663</td><td>0.544</td><td>0.802</td><td>0.614</td></tr>\n",
              "\t<tr><td>Junho    </td><td>NA   </td><td>NA   </td><td>NA   </td><td>NA   </td><td>NA   </td><td>0.886</td><td>0.661</td><td>0.329</td><td>0.253</td><td>0.429</td><td>0.297</td></tr>\n",
              "\t<tr><td>Julho    </td><td>NA   </td><td>NA   </td><td>NA   </td><td>NA   </td><td>NA   </td><td>NA   </td><td>0.768</td><td>0.405</td><td>0.317</td><td>0.517</td><td>0.367</td></tr>\n",
              "\t<tr><td>Agosto   </td><td>NA   </td><td>NA   </td><td>NA   </td><td>NA   </td><td>NA   </td><td>NA   </td><td>NA   </td><td>0.589</td><td>0.478</td><td>0.723</td><td>0.543</td></tr>\n",
              "\t<tr><td>Setembro </td><td>NA   </td><td>NA   </td><td>NA   </td><td>NA   </td><td>NA   </td><td>NA   </td><td>NA   </td><td>NA   </td><td>0.864</td><td>0.853</td><td>0.945</td></tr>\n",
              "\t<tr><td>Outubro  </td><td>NA   </td><td>NA   </td><td>NA   </td><td>NA   </td><td>NA   </td><td>NA   </td><td>NA   </td><td>NA   </td><td>NA   </td><td>0.722</td><td>0.919</td></tr>\n",
              "\t<tr><td>Novembro </td><td>NA   </td><td>NA   </td><td>NA   </td><td>NA   </td><td>NA   </td><td>NA   </td><td>NA   </td><td>NA   </td><td>NA   </td><td>NA   </td><td>0.799</td></tr>\n",
              "</tbody>\n",
              "</table>\n"
            ]
          },
          "metadata": {
            "tags": []
          }
        }
      ]
    },
    {
      "cell_type": "code",
      "metadata": {
        "id": "5-hoENqDkd6_",
        "colab_type": "code",
        "colab": {}
      },
      "source": [
        "#reshape(out, direction = \"wide\", idvar = \"var1\", timevar = \"var2\")\n",
        "write.csv(var_test_matrix,'var_test_matrix.csv')\n"
      ],
      "execution_count": 0,
      "outputs": []
    },
    {
      "cell_type": "code",
      "metadata": {
        "id": "KoFM7t3sn_h_",
        "colab_type": "code",
        "colab": {
          "base_uri": "https://localhost:8080/",
          "height": 314
        },
        "outputId": "2f5efc0f-fd7a-4c48-9167-4c2623a29016"
      },
      "source": [
        "combos <- combn(ncol(df_obitos_normalizado), 2)\n",
        "\n",
        "out <- adply(combos, 2, function(x) {\n",
        "  test <- var.test(df_obitos_normalizado[, x[1]], df_obitos_normalizado[, x[2]])\n",
        "\n",
        "  out <- data.frame(\"var1\" = colnames(df_obitos_normalizado)[x[1]]\n",
        "                    , \"var2\" = colnames(df_obitos_normalizado)[x[2]]\n",
        "                    #, \"t.value\" = sprintf(\"%.3f\", test$statistic)\n",
        "                    #,  \"df\"= test$parameter\n",
        "                    ,  \"p.value\" = sprintf(\"%.3f\", test$p.value)\n",
        "                    )\n",
        "  return(out)\n",
        "\n",
        "})\n",
        "var_test_normalizado_matrix = dcast(out, var1 ~ var2, value.var = \"p.value\")\n",
        "var_test_normalizado_matrix"
      ],
      "execution_count": 29,
      "outputs": [
        {
          "output_type": "display_data",
          "data": {
            "text/plain": [
              "   var1      Fevereiro Março Abril Maio  Junho Julho Agosto Setembro Outubro\n",
              "1  Janeiro   0.892     0.812 0.638 0.779 0.690 0.894 0.908  0.404    0.315  \n",
              "2  Fevereiro NA        0.709 0.545 0.885 0.593 0.788 0.984  0.483    0.383  \n",
              "3  Março     NA        NA    0.816 0.605 0.871 0.917 0.724  0.285    0.215  \n",
              "4  Abril     NA        NA    NA    0.454 0.944 0.736 0.559  0.194    0.143  \n",
              "5  Maio      NA        NA    NA    NA    0.497 0.679 0.869  0.578    0.466  \n",
              "6  Junho     NA        NA    NA    NA    NA    0.790 0.607  0.219    0.162  \n",
              "7  Julho     NA        NA    NA    NA    NA    NA    0.804  0.334    0.256  \n",
              "8  Agosto    NA        NA    NA    NA    NA    NA    NA     0.471    0.372  \n",
              "9  Setembro  NA        NA    NA    NA    NA    NA    NA     NA       0.863  \n",
              "10 Outubro   NA        NA    NA    NA    NA    NA    NA     NA       NA     \n",
              "11 Novembro  NA        NA    NA    NA    NA    NA    NA     NA       NA     \n",
              "   Novembro Dezembro\n",
              "1  0.581    0.450   \n",
              "2  0.676    0.535   \n",
              "3  0.430    0.322   \n",
              "4  0.308    0.223   \n",
              "5  0.785    0.634   \n",
              "6  0.343    0.250   \n",
              "7  0.494    0.375   \n",
              "8  0.662    0.522   \n",
              "9  0.776    0.935   \n",
              "10 0.647    0.800   \n",
              "11 NA       0.839   "
            ],
            "text/latex": "A data.frame: 11 × 12\n\\begin{tabular}{r|llllllllllll}\n var1 & Fevereiro & Março & Abril & Maio & Junho & Julho & Agosto & Setembro & Outubro & Novembro & Dezembro\\\\\n <fct> & <chr> & <chr> & <chr> & <chr> & <chr> & <chr> & <chr> & <chr> & <chr> & <chr> & <chr>\\\\\n\\hline\n\t Janeiro   & 0.892 & 0.812 & 0.638 & 0.779 & 0.690 & 0.894 & 0.908 & 0.404 & 0.315 & 0.581 & 0.450\\\\\n\t Fevereiro & NA    & 0.709 & 0.545 & 0.885 & 0.593 & 0.788 & 0.984 & 0.483 & 0.383 & 0.676 & 0.535\\\\\n\t Março     & NA    & NA    & 0.816 & 0.605 & 0.871 & 0.917 & 0.724 & 0.285 & 0.215 & 0.430 & 0.322\\\\\n\t Abril     & NA    & NA    & NA    & 0.454 & 0.944 & 0.736 & 0.559 & 0.194 & 0.143 & 0.308 & 0.223\\\\\n\t Maio      & NA    & NA    & NA    & NA    & 0.497 & 0.679 & 0.869 & 0.578 & 0.466 & 0.785 & 0.634\\\\\n\t Junho     & NA    & NA    & NA    & NA    & NA    & 0.790 & 0.607 & 0.219 & 0.162 & 0.343 & 0.250\\\\\n\t Julho     & NA    & NA    & NA    & NA    & NA    & NA    & 0.804 & 0.334 & 0.256 & 0.494 & 0.375\\\\\n\t Agosto    & NA    & NA    & NA    & NA    & NA    & NA    & NA    & 0.471 & 0.372 & 0.662 & 0.522\\\\\n\t Setembro  & NA    & NA    & NA    & NA    & NA    & NA    & NA    & NA    & 0.863 & 0.776 & 0.935\\\\\n\t Outubro   & NA    & NA    & NA    & NA    & NA    & NA    & NA    & NA    & NA    & 0.647 & 0.800\\\\\n\t Novembro  & NA    & NA    & NA    & NA    & NA    & NA    & NA    & NA    & NA    & NA    & 0.839\\\\\n\\end{tabular}\n",
            "text/markdown": "\nA data.frame: 11 × 12\n\n| var1 &lt;fct&gt; | Fevereiro &lt;chr&gt; | Março &lt;chr&gt; | Abril &lt;chr&gt; | Maio &lt;chr&gt; | Junho &lt;chr&gt; | Julho &lt;chr&gt; | Agosto &lt;chr&gt; | Setembro &lt;chr&gt; | Outubro &lt;chr&gt; | Novembro &lt;chr&gt; | Dezembro &lt;chr&gt; |\n|---|---|---|---|---|---|---|---|---|---|---|---|\n| Janeiro   | 0.892 | 0.812 | 0.638 | 0.779 | 0.690 | 0.894 | 0.908 | 0.404 | 0.315 | 0.581 | 0.450 |\n| Fevereiro | NA    | 0.709 | 0.545 | 0.885 | 0.593 | 0.788 | 0.984 | 0.483 | 0.383 | 0.676 | 0.535 |\n| Março     | NA    | NA    | 0.816 | 0.605 | 0.871 | 0.917 | 0.724 | 0.285 | 0.215 | 0.430 | 0.322 |\n| Abril     | NA    | NA    | NA    | 0.454 | 0.944 | 0.736 | 0.559 | 0.194 | 0.143 | 0.308 | 0.223 |\n| Maio      | NA    | NA    | NA    | NA    | 0.497 | 0.679 | 0.869 | 0.578 | 0.466 | 0.785 | 0.634 |\n| Junho     | NA    | NA    | NA    | NA    | NA    | 0.790 | 0.607 | 0.219 | 0.162 | 0.343 | 0.250 |\n| Julho     | NA    | NA    | NA    | NA    | NA    | NA    | 0.804 | 0.334 | 0.256 | 0.494 | 0.375 |\n| Agosto    | NA    | NA    | NA    | NA    | NA    | NA    | NA    | 0.471 | 0.372 | 0.662 | 0.522 |\n| Setembro  | NA    | NA    | NA    | NA    | NA    | NA    | NA    | NA    | 0.863 | 0.776 | 0.935 |\n| Outubro   | NA    | NA    | NA    | NA    | NA    | NA    | NA    | NA    | NA    | 0.647 | 0.800 |\n| Novembro  | NA    | NA    | NA    | NA    | NA    | NA    | NA    | NA    | NA    | NA    | 0.839 |\n\n",
            "text/html": [
              "<table>\n",
              "<caption>A data.frame: 11 × 12</caption>\n",
              "<thead>\n",
              "\t<tr><th scope=col>var1</th><th scope=col>Fevereiro</th><th scope=col>Março</th><th scope=col>Abril</th><th scope=col>Maio</th><th scope=col>Junho</th><th scope=col>Julho</th><th scope=col>Agosto</th><th scope=col>Setembro</th><th scope=col>Outubro</th><th scope=col>Novembro</th><th scope=col>Dezembro</th></tr>\n",
              "\t<tr><th scope=col>&lt;fct&gt;</th><th scope=col>&lt;chr&gt;</th><th scope=col>&lt;chr&gt;</th><th scope=col>&lt;chr&gt;</th><th scope=col>&lt;chr&gt;</th><th scope=col>&lt;chr&gt;</th><th scope=col>&lt;chr&gt;</th><th scope=col>&lt;chr&gt;</th><th scope=col>&lt;chr&gt;</th><th scope=col>&lt;chr&gt;</th><th scope=col>&lt;chr&gt;</th><th scope=col>&lt;chr&gt;</th></tr>\n",
              "</thead>\n",
              "<tbody>\n",
              "\t<tr><td>Janeiro  </td><td>0.892</td><td>0.812</td><td>0.638</td><td>0.779</td><td>0.690</td><td>0.894</td><td>0.908</td><td>0.404</td><td>0.315</td><td>0.581</td><td>0.450</td></tr>\n",
              "\t<tr><td>Fevereiro</td><td>NA   </td><td>0.709</td><td>0.545</td><td>0.885</td><td>0.593</td><td>0.788</td><td>0.984</td><td>0.483</td><td>0.383</td><td>0.676</td><td>0.535</td></tr>\n",
              "\t<tr><td>Março    </td><td>NA   </td><td>NA   </td><td>0.816</td><td>0.605</td><td>0.871</td><td>0.917</td><td>0.724</td><td>0.285</td><td>0.215</td><td>0.430</td><td>0.322</td></tr>\n",
              "\t<tr><td>Abril    </td><td>NA   </td><td>NA   </td><td>NA   </td><td>0.454</td><td>0.944</td><td>0.736</td><td>0.559</td><td>0.194</td><td>0.143</td><td>0.308</td><td>0.223</td></tr>\n",
              "\t<tr><td>Maio     </td><td>NA   </td><td>NA   </td><td>NA   </td><td>NA   </td><td>0.497</td><td>0.679</td><td>0.869</td><td>0.578</td><td>0.466</td><td>0.785</td><td>0.634</td></tr>\n",
              "\t<tr><td>Junho    </td><td>NA   </td><td>NA   </td><td>NA   </td><td>NA   </td><td>NA   </td><td>0.790</td><td>0.607</td><td>0.219</td><td>0.162</td><td>0.343</td><td>0.250</td></tr>\n",
              "\t<tr><td>Julho    </td><td>NA   </td><td>NA   </td><td>NA   </td><td>NA   </td><td>NA   </td><td>NA   </td><td>0.804</td><td>0.334</td><td>0.256</td><td>0.494</td><td>0.375</td></tr>\n",
              "\t<tr><td>Agosto   </td><td>NA   </td><td>NA   </td><td>NA   </td><td>NA   </td><td>NA   </td><td>NA   </td><td>NA   </td><td>0.471</td><td>0.372</td><td>0.662</td><td>0.522</td></tr>\n",
              "\t<tr><td>Setembro </td><td>NA   </td><td>NA   </td><td>NA   </td><td>NA   </td><td>NA   </td><td>NA   </td><td>NA   </td><td>NA   </td><td>0.863</td><td>0.776</td><td>0.935</td></tr>\n",
              "\t<tr><td>Outubro  </td><td>NA   </td><td>NA   </td><td>NA   </td><td>NA   </td><td>NA   </td><td>NA   </td><td>NA   </td><td>NA   </td><td>NA   </td><td>0.647</td><td>0.800</td></tr>\n",
              "\t<tr><td>Novembro </td><td>NA   </td><td>NA   </td><td>NA   </td><td>NA   </td><td>NA   </td><td>NA   </td><td>NA   </td><td>NA   </td><td>NA   </td><td>NA   </td><td>0.839</td></tr>\n",
              "</tbody>\n",
              "</table>\n"
            ]
          },
          "metadata": {
            "tags": []
          }
        }
      ]
    },
    {
      "cell_type": "code",
      "metadata": {
        "id": "qwhuMhfIqPNt",
        "colab_type": "code",
        "colab": {}
      },
      "source": [
        "write.csv(var_test_normalizado_matrix,'var_test_normalizado_matrix.csv')"
      ],
      "execution_count": 0,
      "outputs": []
    },
    {
      "cell_type": "markdown",
      "metadata": {
        "id": "Scy2UsJS8xe6",
        "colab_type": "text"
      },
      "source": [
        "# Diferença das médias"
      ]
    },
    {
      "cell_type": "code",
      "metadata": {
        "id": "CkfsmRX6Eiw4",
        "colab_type": "code",
        "outputId": "40827852-c390-4a7b-dea4-baa87386b826",
        "colab": {
          "base_uri": "https://localhost:8080/",
          "height": 573
        }
      },
      "source": [
        "library(reshape2)\n",
        "\n",
        "d <- melt(df_obitos)\n",
        "\n",
        "# p.adjust \"holm\", \"hochberg\", \"hommel\", \"bonferroni\", \"BH\", \"BY\", \"fdr\", \"none\"\n",
        "pairwise.t.test(d$value, d$variable, p.adjust = \"none\") "
      ],
      "execution_count": 31,
      "outputs": [
        {
          "output_type": "stream",
          "text": [
            "No id variables; using all as measure variables\n"
          ],
          "name": "stderr"
        },
        {
          "output_type": "display_data",
          "data": {
            "text/plain": [
              "\n",
              "\tPairwise comparisons using t tests with pooled SD \n",
              "\n",
              "data:  d$value and d$variable \n",
              "\n",
              "          Janeiro Fevereiro Março  Abril  Maio   Junho  Julho  Agosto Setembro\n",
              "Fevereiro 0.1288  -         -      -      -      -      -      -      -       \n",
              "Março     0.8454  0.1851    -      -      -      -      -      -      -       \n",
              "Abril     0.2244  0.7597    0.3073 -      -      -      -      -      -       \n",
              "Maio      0.1859  0.8434    0.2590 0.9137 -      -      -      -      -       \n",
              "Junho     0.0195  0.4078    0.0320 0.2574 0.3055 -      -      -      -       \n",
              "Julho     0.0493  0.6510    0.0761 0.4486 0.5159 0.7070 -      -      -       \n",
              "Agosto    0.4035  0.4923    0.5217 0.7032 0.6246 0.1307 0.2553 -      -       \n",
              "Setembro  0.4365  0.4570    0.5596 0.6611 0.5847 0.1169 0.2322 0.9543 -       \n",
              "Outubro   0.8986  0.1000    0.7471 0.1797 0.1473 0.0139 0.0365 0.3358 0.3653  \n",
              "Novembro  0.4092  0.4859    0.5283 0.6956 0.6174 0.1282 0.2511 0.9919 0.9624  \n",
              "Dezembro  0.5847  0.0395    0.4585 0.0789 0.0623 0.0041 0.0123 0.1677 0.1859  \n",
              "          Outubro Novembro\n",
              "Fevereiro -       -       \n",
              "Março     -       -       \n",
              "Abril     -       -       \n",
              "Maio      -       -       \n",
              "Junho     -       -       \n",
              "Julho     -       -       \n",
              "Agosto    -       -       \n",
              "Setembro  -       -       \n",
              "Outubro   -       -       \n",
              "Novembro  0.3409  -       \n",
              "Dezembro  0.6750  0.1708  \n",
              "\n",
              "P value adjustment method: none "
            ]
          },
          "metadata": {
            "tags": []
          }
        }
      ]
    },
    {
      "cell_type": "code",
      "metadata": {
        "id": "OpuLYmULHoRO",
        "colab_type": "code",
        "outputId": "4a827e04-02f3-4557-fa50-d0d2c41c1452",
        "colab": {
          "base_uri": "https://localhost:8080/",
          "height": 573
        }
      },
      "source": [
        "d <- melt(df_obitos_normalizado)\n",
        "\n",
        "# p.adjust \"holm\", \"hochberg\", \"hommel\", \"bonferroni\", \"BH\", \"BY\", \"fdr\", \"none\"\n",
        "pairwise.t.test(d$value, d$variable, p.adjust = \"none\") "
      ],
      "execution_count": 32,
      "outputs": [
        {
          "output_type": "stream",
          "text": [
            "No id variables; using all as measure variables\n"
          ],
          "name": "stderr"
        },
        {
          "output_type": "display_data",
          "data": {
            "text/plain": [
              "\n",
              "\tPairwise comparisons using t tests with pooled SD \n",
              "\n",
              "data:  d$value and d$variable \n",
              "\n",
              "          Janeiro Fevereiro Março   Abril   Maio    Junho   Julho   Agosto \n",
              "Fevereiro 0.02706 -         -       -       -       -       -       -      \n",
              "Março     0.78361 0.05234   -       -       -       -       -       -      \n",
              "Abril     0.07856 0.64692   0.13699 -       -       -       -       -      \n",
              "Maio      0.05249 0.78269   0.09536 0.85534 -       -       -       -      \n",
              "Junho     0.00074 0.23210   0.00188 0.09900 0.14183 -       -       -      \n",
              "Julho     0.00443 0.51564   0.00992 0.26833 0.35481 0.58476 -       -      \n",
              "Agosto    0.22380 0.31538   0.34566 0.58446 0.46605 0.02857 0.09892 -      \n",
              "Setembro  0.24529 0.28974   0.37439 0.54735 0.43320 0.02488 0.08829 0.95620\n",
              "Outubro   0.87069 0.01777   0.66187 0.05488 0.03577 0.00042 0.00267 0.16812\n",
              "Novembro  0.22064 0.31943   0.34140 0.59023 0.47118 0.02917 0.10063 0.99330\n",
              "Dezembro  0.44529 0.00312   0.29969 0.01207 0.00719 4.2e-05 0.00034 0.04849\n",
              "          Setembro Outubro Novembro\n",
              "Fevereiro -        -       -       \n",
              "Março     -        -       -       \n",
              "Abril     -        -       -       \n",
              "Maio      -        -       -       \n",
              "Junho     -        -       -       \n",
              "Julho     -        -       -       \n",
              "Agosto    -        -       -       \n",
              "Setembro  -        -       -       \n",
              "Outubro   0.18559  -       -       \n",
              "Novembro  0.94952  0.16556 -       \n",
              "Dezembro  0.05499  0.54799 0.04755 \n",
              "\n",
              "P value adjustment method: none "
            ]
          },
          "metadata": {
            "tags": []
          }
        }
      ]
    },
    {
      "cell_type": "code",
      "metadata": {
        "id": "C6kZWyRW80Te",
        "colab_type": "code",
        "colab": {}
      },
      "source": [
        ""
      ],
      "execution_count": 0,
      "outputs": []
    },
    {
      "cell_type": "code",
      "metadata": {
        "id": "lv3XxGhkAin1",
        "colab_type": "code",
        "colab": {}
      },
      "source": [
        ""
      ],
      "execution_count": 0,
      "outputs": []
    }
  ]
}